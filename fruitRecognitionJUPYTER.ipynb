{
 "cells": [
  {
   "cell_type": "markdown",
   "id": "internal-insert",
   "metadata": {},
   "source": [
    "## Hello World"
   ]
  },
  {
   "cell_type": "markdown",
   "id": "proud-theorem",
   "metadata": {},
   "source": [
    "This will be my test bench for testing and relearning PyTorch"
   ]
  },
  {
   "cell_type": "code",
   "execution_count": 66,
   "id": "interracial-thread",
   "metadata": {},
   "outputs": [],
   "source": [
    "import torch\n",
    "from torch import nn\n",
    "from torch.utils.data import DataLoader\n",
    "from torchvision import datasets\n",
    "from torchvision.transforms import ToTensor, Lambda, Compose\n",
    "import matplotlib.pyplot as plt"
   ]
  },
  {
   "cell_type": "markdown",
   "id": "crude-healing",
   "metadata": {},
   "source": [
    "Next up, I'm downloading one of their multitude of datasets. Whose? Facebook's (who have collected a bunch from other sources into a single API call kinda thing hahahahahhaa)"
   ]
  },
  {
   "cell_type": "code",
   "execution_count": 67,
   "id": "lesbian-financing",
   "metadata": {},
   "outputs": [
    {
     "name": "stderr",
     "output_type": "stream",
     "text": [
      "/Library/Frameworks/Python.framework/Versions/3.6/lib/python3.6/site-packages/torchvision/datasets/mnist.py:498: UserWarning: The given NumPy array is not writeable, and PyTorch does not support non-writeable tensors. This means you can write to the underlying (supposedly non-writeable) NumPy array using the tensor. You may want to copy the array to protect its data or make it writeable before converting it to a tensor. This type of warning will be suppressed for the rest of this program. (Triggered internally at  ../torch/csrc/utils/tensor_numpy.cpp:180.)\n",
      "  return torch.from_numpy(parsed.astype(m[2], copy=False)).view(*s)\n"
     ]
    }
   ],
   "source": [
    "# Download training data from open datasets.\n",
    "training_data = datasets.FashionMNIST(\n",
    "    root=\"data\",\n",
    "    train=True,\n",
    "    download=True,\n",
    "    transform=ToTensor(),\n",
    ")\n",
    "\n",
    "# Download test data from open datasets.\n",
    "test_data = datasets.FashionMNIST(\n",
    "    root=\"data\",\n",
    "    train=False,\n",
    "    download=True,\n",
    "    transform=ToTensor(),\n",
    ")"
   ]
  },
  {
   "cell_type": "markdown",
   "id": "proud-miami",
   "metadata": {},
   "source": [
    "Below is to load the data into something workable for PyTorch"
   ]
  },
  {
   "cell_type": "code",
   "execution_count": 68,
   "id": "latest-fellow",
   "metadata": {},
   "outputs": [],
   "source": [
    "batch_size = 64\n",
    "\n",
    "# Create data loaders.\n",
    "train_dataloader = DataLoader(training_data, batch_size=batch_size)\n",
    "test_dataloader = DataLoader(test_data, batch_size=batch_size)\n"
   ]
  },
  {
   "cell_type": "markdown",
   "id": "divided-corrections",
   "metadata": {},
   "source": [
    "Now we will define our model"
   ]
  },
  {
   "cell_type": "code",
   "execution_count": 69,
   "id": "educational-durham",
   "metadata": {},
   "outputs": [
    {
     "name": "stdout",
     "output_type": "stream",
     "text": [
      "NeuralNetwork(\n",
      "  (flatten): Flatten(start_dim=1, end_dim=-1)\n",
      "  (linear_relu_stack): Sequential(\n",
      "    (0): Linear(in_features=784, out_features=256, bias=True)\n",
      "    (1): ReLU()\n",
      "    (2): Linear(in_features=256, out_features=256, bias=True)\n",
      "    (3): ReLU()\n",
      "    (4): Linear(in_features=256, out_features=10, bias=True)\n",
      "  )\n",
      ")\n"
     ]
    }
   ],
   "source": [
    "# Define model\n",
    "class NeuralNetwork(nn.Module):\n",
    "    def __init__(self):\n",
    "        super(NeuralNetwork, self).__init__()\n",
    "        self.flatten = nn.Flatten()\n",
    "        self.linear_relu_stack = nn.Sequential(\n",
    "            nn.Linear(28*28, 256),\n",
    "            nn.ReLU(),\n",
    "            nn.Linear(256, 256),\n",
    "            nn.ReLU(),\n",
    "            nn.Linear(256, 10)\n",
    "        )\n",
    "\n",
    "    def forward(self, x):\n",
    "        x = self.flatten(x)\n",
    "        logits = self.linear_relu_stack(x)\n",
    "        return logits\n",
    "\n",
    "model = NeuralNetwork().to(\"cpu\")\n",
    "print(model)"
   ]
  },
  {
   "cell_type": "markdown",
   "id": "vital-light",
   "metadata": {},
   "source": [
    "For training our model, we need some loss function and optimizer function for the model to 'learn'"
   ]
  },
  {
   "cell_type": "code",
   "execution_count": 70,
   "id": "invisible-saturday",
   "metadata": {},
   "outputs": [],
   "source": [
    "loss_fn = nn.CrossEntropyLoss()\n",
    "optimizer = torch.optim.Adam(model.parameters(), lr=1e-3)"
   ]
  },
  {
   "cell_type": "markdown",
   "id": "departmental-washington",
   "metadata": {},
   "source": [
    "This is our training function"
   ]
  },
  {
   "cell_type": "code",
   "execution_count": 71,
   "id": "periodic-technician",
   "metadata": {},
   "outputs": [],
   "source": [
    "def train(dataloader, model, loss_fn, optimizer):\n",
    "    size = len(dataloader.dataset)\n",
    "    model.train()\n",
    "    for batch, (X, y) in enumerate(dataloader):\n",
    "        X, y = X.to(\"cpu\"), y.to(\"cpu\")\n",
    "\n",
    "        # Compute prediction error\n",
    "        pred = model(X)\n",
    "        loss = loss_fn(pred, y)\n",
    "\n",
    "        # Backpropagation\n",
    "        optimizer.zero_grad()\n",
    "        loss.backward()\n",
    "        optimizer.step()\n",
    "\n",
    "        if batch % 100 == 0:\n",
    "            loss, current = loss.item(), batch * len(X)\n",
    "            print(f\"loss: {loss:>7f}  [{current:>5d}/{size:>5d}]\")"
   ]
  },
  {
   "cell_type": "markdown",
   "id": "light-humidity",
   "metadata": {},
   "source": [
    "... and this is our testing function"
   ]
  },
  {
   "cell_type": "code",
   "execution_count": 72,
   "id": "marked-general",
   "metadata": {},
   "outputs": [],
   "source": [
    "def test(dataloader, model, loss_fn):\n",
    "    size = len(dataloader.dataset)\n",
    "    num_batches = len(dataloader)\n",
    "    model.eval()\n",
    "    test_loss, correct = 0, 0\n",
    "    with torch.no_grad():\n",
    "        for X, y in dataloader:\n",
    "            X, y = X.to(\"cpu\"), y.to(\"cpu\")\n",
    "            pred = model(X)\n",
    "            test_loss += loss_fn(pred, y).item()\n",
    "            correct += (pred.argmax(1) == y).type(torch.float).sum().item()\n",
    "    test_loss /= num_batches\n",
    "    correct /= size\n",
    "    print(f\"Test Error: \\n Accuracy: {(100*correct):>0.1f}%, Avg loss: {test_loss:>8f} \\n\")\n"
   ]
  },
  {
   "cell_type": "markdown",
   "id": "western-blame",
   "metadata": {},
   "source": [
    "... and finally this is to run the whole thing"
   ]
  },
  {
   "cell_type": "code",
   "execution_count": 73,
   "id": "ranking-thumbnail",
   "metadata": {},
   "outputs": [
    {
     "name": "stdout",
     "output_type": "stream",
     "text": [
      "Epoch 1\n",
      "-------------------------------\n",
      "loss: 2.305351  [    0/60000]\n",
      "loss: 0.642021  [ 6400/60000]\n",
      "loss: 0.394251  [12800/60000]\n",
      "loss: 0.550530  [19200/60000]\n",
      "loss: 0.520448  [25600/60000]\n",
      "loss: 0.436681  [32000/60000]\n",
      "loss: 0.388298  [38400/60000]\n",
      "loss: 0.555964  [44800/60000]\n",
      "loss: 0.483698  [51200/60000]\n",
      "loss: 0.528856  [57600/60000]\n",
      "Test Error: \n",
      " Accuracy: 83.8%, Avg loss: 0.441405 \n",
      "\n",
      "Epoch 2\n",
      "-------------------------------\n",
      "loss: 0.281881  [    0/60000]\n",
      "loss: 0.363394  [ 6400/60000]\n",
      "loss: 0.282471  [12800/60000]\n",
      "loss: 0.446895  [19200/60000]\n",
      "loss: 0.373922  [25600/60000]\n",
      "loss: 0.382292  [32000/60000]\n",
      "loss: 0.327877  [38400/60000]\n",
      "loss: 0.491119  [44800/60000]\n",
      "loss: 0.401155  [51200/60000]\n",
      "loss: 0.463512  [57600/60000]\n",
      "Test Error: \n",
      " Accuracy: 85.0%, Avg loss: 0.403813 \n",
      "\n",
      "Epoch 3\n",
      "-------------------------------\n",
      "loss: 0.256936  [    0/60000]\n",
      "loss: 0.330773  [ 6400/60000]\n",
      "loss: 0.224020  [12800/60000]\n",
      "loss: 0.375926  [19200/60000]\n",
      "loss: 0.343529  [25600/60000]\n",
      "loss: 0.361090  [32000/60000]\n",
      "loss: 0.277105  [38400/60000]\n",
      "loss: 0.446787  [44800/60000]\n",
      "loss: 0.352407  [51200/60000]\n",
      "loss: 0.430298  [57600/60000]\n",
      "Test Error: \n",
      " Accuracy: 86.6%, Avg loss: 0.367523 \n",
      "\n",
      "Epoch 4\n",
      "-------------------------------\n",
      "loss: 0.215178  [    0/60000]\n",
      "loss: 0.318701  [ 6400/60000]\n",
      "loss: 0.204652  [12800/60000]\n",
      "loss: 0.321782  [19200/60000]\n",
      "loss: 0.333708  [25600/60000]\n",
      "loss: 0.306577  [32000/60000]\n",
      "loss: 0.260266  [38400/60000]\n",
      "loss: 0.428241  [44800/60000]\n",
      "loss: 0.304641  [51200/60000]\n",
      "loss: 0.353576  [57600/60000]\n",
      "Test Error: \n",
      " Accuracy: 86.6%, Avg loss: 0.364830 \n",
      "\n",
      "Epoch 5\n",
      "-------------------------------\n",
      "loss: 0.219769  [    0/60000]\n",
      "loss: 0.270636  [ 6400/60000]\n",
      "loss: 0.173234  [12800/60000]\n",
      "loss: 0.303072  [19200/60000]\n",
      "loss: 0.316031  [25600/60000]\n",
      "loss: 0.325952  [32000/60000]\n",
      "loss: 0.242774  [38400/60000]\n",
      "loss: 0.410330  [44800/60000]\n",
      "loss: 0.270166  [51200/60000]\n",
      "loss: 0.338786  [57600/60000]\n",
      "Test Error: \n",
      " Accuracy: 87.1%, Avg loss: 0.359314 \n",
      "\n",
      "Epoch 6\n",
      "-------------------------------\n",
      "loss: 0.199215  [    0/60000]\n",
      "loss: 0.253540  [ 6400/60000]\n",
      "loss: 0.181042  [12800/60000]\n",
      "loss: 0.288671  [19200/60000]\n",
      "loss: 0.354782  [25600/60000]\n",
      "loss: 0.292485  [32000/60000]\n",
      "loss: 0.264109  [38400/60000]\n",
      "loss: 0.368503  [44800/60000]\n",
      "loss: 0.269534  [51200/60000]\n",
      "loss: 0.321273  [57600/60000]\n",
      "Test Error: \n",
      " Accuracy: 87.7%, Avg loss: 0.343283 \n",
      "\n",
      "Epoch 7\n",
      "-------------------------------\n",
      "loss: 0.167835  [    0/60000]\n",
      "loss: 0.209715  [ 6400/60000]\n",
      "loss: 0.186315  [12800/60000]\n",
      "loss: 0.293166  [19200/60000]\n",
      "loss: 0.316979  [25600/60000]\n",
      "loss: 0.299206  [32000/60000]\n",
      "loss: 0.244845  [38400/60000]\n",
      "loss: 0.344774  [44800/60000]\n",
      "loss: 0.226039  [51200/60000]\n",
      "loss: 0.294092  [57600/60000]\n",
      "Test Error: \n",
      " Accuracy: 87.8%, Avg loss: 0.343493 \n",
      "\n",
      "Epoch 8\n",
      "-------------------------------\n",
      "loss: 0.149327  [    0/60000]\n",
      "loss: 0.215653  [ 6400/60000]\n",
      "loss: 0.174980  [12800/60000]\n",
      "loss: 0.269929  [19200/60000]\n",
      "loss: 0.328035  [25600/60000]\n",
      "loss: 0.274304  [32000/60000]\n",
      "loss: 0.213317  [38400/60000]\n",
      "loss: 0.311355  [44800/60000]\n",
      "loss: 0.279595  [51200/60000]\n",
      "loss: 0.266006  [57600/60000]\n",
      "Test Error: \n",
      " Accuracy: 87.4%, Avg loss: 0.367465 \n",
      "\n",
      "Done!\n"
     ]
    }
   ],
   "source": [
    "epochs = 8\n",
    "for t in range(epochs):\n",
    "    print(f\"Epoch {t+1}\\n-------------------------------\")\n",
    "    train(train_dataloader, model, loss_fn, optimizer)\n",
    "    test(test_dataloader, model, loss_fn)\n",
    "print(\"Done!\")"
   ]
  },
  {
   "cell_type": "code",
   "execution_count": 76,
   "id": "distinct-microphone",
   "metadata": {
    "scrolled": true
   },
   "outputs": [
    {
     "data": {
      "image/png": "[encoded data removed]",
      "text/plain": [
       "<Figure size 576x576 with 9 Axes>"
      ]
     },
     "metadata": {
      "needs_background": "light"
     },
     "output_type": "display_data"
    }
   ],
   "source": [
    "classes = [\n",
    "    \"T-shirt/top\",\n",
    "    \"Trouser\",\n",
    "    \"Pullover\",\n",
    "    \"Dress\",\n",
    "    \"Coat\",\n",
    "    \"Sandal\",\n",
    "    \"Shirt\",\n",
    "    \"Sneaker\",\n",
    "    \"Bag\",\n",
    "    \"Ankle boot\",\n",
    "]\n",
    "\n",
    "figure = plt.figure(figsize=(8, 8))\n",
    "cols, rows = 3, 3\n",
    "model.eval()\n",
    "for i in range(1, cols * rows + 1):\n",
    "    \n",
    "    sample_idx = torch.randint(len(test_data), size=(1,)).item()\n",
    "    x, y = test_data[sample_idx][0], test_data[sample_idx][1]\n",
    "    with torch.no_grad():\n",
    "        pred = model(x)\n",
    "        predicted, actual = classes[pred[0].argmax(0)], classes[y]\n",
    "        \n",
    "        figure.add_subplot(rows, cols, i)\n",
    "        txt = f'Predicted: \"{predicted}\", \\nActual: \"{actual}\"'\n",
    "        plt.title(txt)\n",
    "        plt.axis(\"off\")\n",
    "        plt.imshow(x.squeeze(), cmap=\"gray\")\n",
    "plt.subplots_adjust(hspace=0.5, wspace=0.5)\n",
    "plt.show()\n"
   ]
  },
  {
   "cell_type": "markdown",
   "id": "micro-amber",
   "metadata": {},
   "source": [
    "## Start of FYP testing on Fruit Recognition\n",
    "Below will be the code for preparing the dataset for ML"
   ]
  },
  {
   "cell_type": "code",
   "execution_count": 27,
   "id": "amended-platinum",
   "metadata": {},
   "outputs": [
    {
     "name": "stdout",
     "output_type": "stream",
     "text": [
      "Making...\n",
      "fruits/apple\n"
     ]
    },
    {
     "name": "stderr",
     "output_type": "stream",
     "text": [
      "100%|██████████| 1203/1203 [00:00<00:00, 1933.19it/s]\n"
     ]
    },
    {
     "name": "stdout",
     "output_type": "stream",
     "text": [
      "fruits/banana\n"
     ]
    },
    {
     "name": "stderr",
     "output_type": "stream",
     "text": [
      "100%|██████████| 1162/1162 [00:00<00:00, 2741.51it/s]\n"
     ]
    },
    {
     "name": "stdout",
     "output_type": "stream",
     "text": [
      "fruits/grape\n"
     ]
    },
    {
     "name": "stderr",
     "output_type": "stream",
     "text": [
      "100%|██████████| 1033/1033 [00:00<00:00, 2921.18it/s]\n"
     ]
    },
    {
     "name": "stdout",
     "output_type": "stream",
     "text": [
      "fruits/mango\n"
     ]
    },
    {
     "name": "stderr",
     "output_type": "stream",
     "text": [
      "100%|██████████| 1025/1025 [00:00<00:00, 3187.03it/s]\n"
     ]
    },
    {
     "name": "stdout",
     "output_type": "stream",
     "text": [
      "fruits/strawberry\n"
     ]
    },
    {
     "name": "stderr",
     "output_type": "stream",
     "text": [
      "100%|██████████| 1002/1002 [00:00<00:00, 3088.63it/s]\n"
     ]
    },
    {
     "name": "stdout",
     "output_type": "stream",
     "text": [
      "5425\n",
      "apple : 1203\n",
      "banana : 1162\n",
      "grape : 1033\n",
      "mango : 1025\n",
      "strawberry : 1002\n"
     ]
    }
   ],
   "source": [
    "import os\n",
    "import cv2\n",
    "import numpy as np\n",
    "from tqdm import tqdm\n",
    "import matplotlib.pyplot as plt\n",
    "import torch\n",
    "from torch import nn\n",
    "from torch.utils.data import DataLoader\n",
    "\n",
    "REBUILD_DATA = True\n",
    "\n",
    "class fruitification():\n",
    "    \n",
    "    \"\"\"\n",
    "    STEPS:\n",
    "    1) Denote the file directory for Apples, Mangoes, Bananas, Grapes and Strawberries\n",
    "    2) Label them with a dictionary. We'll use np.eye to handle the labelling into the training_data\n",
    "    3) Training_data = []\n",
    "    4) Count how many fruits for each Apples, Mangoes, etc...\n",
    "    5) Shuffle the training_data\n",
    "    6) Save it\n",
    "    \"\"\"\n",
    "    \n",
    "    # IMG_SIZE dictates the dimensions we wanna resize it into i.e. 50x50\n",
    "    IMG_SIZE = 50\n",
    "    \n",
    "    # Directory of fruits\n",
    "    AP = \"fruits/apple\"\n",
    "    BN = \"fruits/banana\"\n",
    "    GR = \"fruits/grape\"\n",
    "    MG = \"fruits/mango\"\n",
    "    ST = \"fruits/strawberry\"\n",
    "    \n",
    "    # Labels for fruits in numbers\n",
    "    LABELS = {AP: 0, BN: 1, GR: 2, MG: 3, ST: 4}\n",
    "    training_data = []\n",
    "    counts = [0, 0, 0, 0, 0]\n",
    "    \n",
    "    def make_training_data(self):\n",
    "        for label in self.LABELS:\n",
    "            print(label)\n",
    "            \n",
    "            # Access the individual images inside each directory folder\n",
    "            for f in tqdm(os.listdir(label)):\n",
    "                try:\n",
    "                    # Create the full path name here\n",
    "                    path = os.path.join(label, f)\n",
    "                    img = cv2.imread(path, cv2.IMREAD_GRAYSCALE)\n",
    "                    # By default, opencv2 reads an image in BGR format\n",
    "#                     img = cv2.imread(path) \n",
    "                    img = cv2.resize(img, (self.IMG_SIZE, self.IMG_SIZE))\n",
    "                    \n",
    "                    # eye is identity matrix. self.LABELS[label] is just dictionary and key accessing\n",
    "                    self.training_data.append([np.flip(np.array(img), axis=-1), np.eye(5)[self.LABELS[label]]])\n",
    "                    # np.flip axis = -1 essentially flips BGR to RGB. Inverted flip kinda thing y'know\n",
    "                    \n",
    "                    # Count each fruit\n",
    "                    self.counts[self.LABELS[label]] += 1\n",
    "                        \n",
    "                except:\n",
    "                    pass\n",
    "                \n",
    "        # shuffling, cuz I heard it helps reduce the model from memorizing patterns\n",
    "        np.random.shuffle(self.training_data)\n",
    "        np.save(\"training_data.npy\", self.training_data)\n",
    "        print(len(self.training_data))\n",
    "        \n",
    "        # printing the count for each fruits\n",
    "        for i in self.LABELS:\n",
    "            print(i[7:], \":\", self.counts[self.LABELS[i]])\n",
    "\n",
    "if REBUILD_DATA:\n",
    "    fds = fruitification()\n",
    "    print(\"Making...\")\n",
    "    fds.make_training_data()\n",
    "    REBUILD_DATA = False"
   ]
  },
  {
   "cell_type": "code",
   "execution_count": 28,
   "id": "complex-fortune",
   "metadata": {},
   "outputs": [
    {
     "name": "stdout",
     "output_type": "stream",
     "text": [
      "[0. 0. 1. 0. 0.]\n"
     ]
    },
    {
     "data": {
      "image/png": "[encoded data removed]",
      "text/plain": [
       "<Figure size 432x288 with 1 Axes>"
      ]
     },
     "metadata": {
      "needs_background": "light"
     },
     "output_type": "display_data"
    },
    {
     "name": "stdout",
     "output_type": "stream",
     "text": [
      "(5425, 2)\n"
     ]
    }
   ],
   "source": [
    "training_data = np.load(\"training_data.npy\", allow_pickle = True)\n",
    "                        \n",
    "# training_data[...][0] ==> the actual image in array format\n",
    "# training_data[...][1] ==> the label of image\n",
    "idx = 1\n",
    "# print(training_data[idx][0])\n",
    "plt.imshow(training_data[idx][0])\n",
    "print(training_data[idx][1])\n",
    "plt.show()\n",
    "print(training_data.shape)"
   ]
  },
  {
   "cell_type": "code",
   "execution_count": 31,
   "id": "noble-petroleum",
   "metadata": {},
   "outputs": [
    {
     "name": "stdout",
     "output_type": "stream",
     "text": [
      "tensor([[255., 255., 255.,  ..., 255., 255., 255.],\n",
      "        [255., 255., 255.,  ..., 255., 255., 255.],\n",
      "        [255., 255., 255.,  ..., 255., 255., 255.],\n",
      "        ...,\n",
      "        [255., 255., 255.,  ..., 255., 255., 255.],\n",
      "        [255., 255., 255.,  ..., 255., 255., 255.],\n",
      "        [255., 255., 255.,  ..., 255., 255., 255.]])\n"
     ]
    },
    {
     "data": {
      "image/png": "[encoded data removed]",
      "text/plain": [
       "<Figure size 432x288 with 1 Axes>"
      ]
     },
     "metadata": {
      "needs_background": "light"
     },
     "output_type": "display_data"
    },
    {
     "name": "stdout",
     "output_type": "stream",
     "text": [
      "tensor([[1., 1., 1.,  ..., 1., 1., 1.],\n",
      "        [1., 1., 1.,  ..., 1., 1., 1.],\n",
      "        [1., 1., 1.,  ..., 1., 1., 1.],\n",
      "        ...,\n",
      "        [1., 1., 1.,  ..., 1., 1., 1.],\n",
      "        [1., 1., 1.,  ..., 1., 1., 1.],\n",
      "        [1., 1., 1.,  ..., 1., 1., 1.]])\n"
     ]
    },
    {
     "data": {
      "image/png": "[encoded data removed]",
      "text/plain": [
       "<Figure size 432x288 with 1 Axes>"
      ]
     },
     "metadata": {
      "needs_background": "light"
     },
     "output_type": "display_data"
    }
   ],
   "source": [
    "# # if .Tensor, no need the , 1 after -1\n",
    "the_data = torch.Tensor([i[0] for i in training_data]).view(-1, 50, 50)\n",
    "\n",
    "print(the_data[1])\n",
    "plt.imshow(the_data[1])\n",
    "plt.show()\n",
    "\n",
    "# # \"Normalize\" it into values between 0 and 1. Easier to train the model\n",
    "the_data = the_data/255.0\n",
    "\n",
    "print(the_data[1])\n",
    "plt.imshow(the_data[1])\n",
    "plt.show()\n",
    "\n",
    "labellings = torch.Tensor([i[1] for i in training_data])\n",
    "\n",
    "validation_perc = 0.1\n",
    "validation_size = int(len(the_data) * validation_perc)\n",
    "\n",
    "# # Basically 90% is for training\n",
    "train_x = the_data[:-validation_size]\n",
    "train_y = labellings[:-validation_size]\n",
    "\n",
    "# # 10% for testing\n",
    "test_x = the_data[-validation_size:]\n",
    "test_y = labellings[-validation_size:]"
   ]
  },
  {
   "cell_type": "code",
   "execution_count": 32,
   "id": "manufactured-terrain",
   "metadata": {},
   "outputs": [
    {
     "name": "stdout",
     "output_type": "stream",
     "text": [
      "torch.Size([5425, 50, 50])\n",
      "torch.Size([5425, 5])\n"
     ]
    }
   ],
   "source": [
    "print(the_data.shape)\n",
    "print(labellings.shape)"
   ]
  },
  {
   "cell_type": "code",
   "execution_count": 33,
   "id": "aggregate-symposium",
   "metadata": {},
   "outputs": [],
   "source": [
    "import torch.nn as nn\n",
    "import torch.nn.functional as F\n",
    "\n",
    "\n",
    "class NeuralNet(nn.Module):\n",
    "    def __init__(self):\n",
    "        super().__init__()\n",
    "        self.conv1 = nn.Conv2d(1, 6, 5) # image channel == 1, output channel == 6, kernel filter == 5\n",
    "        self.pool = nn.MaxPool2d(2, 2)\n",
    "        self.conv2 = nn.Conv2d(6, 16, 5) \n",
    "        self.fc1 = nn.Linear(16 * 9 * 9, 120) # 16 cuz from conv2, 5 and 5 cuz of our kernel filters above\n",
    "        self.fc2 = nn.Linear(120, 84)\n",
    "        self.fc3 = nn.Linear(84, 5)\n",
    "\n",
    "    def forward(self, x):\n",
    "        x = self.pool(F.relu(self.conv1(x)))\n",
    "        x = self.pool(F.relu(self.conv2(x)))\n",
    "#         print(x.shape)\n",
    "        x = torch.flatten(x, 1) # flatten all dimensions except batch\n",
    "        x = F.relu(self.fc1(x))\n",
    "        x = F.relu(self.fc2(x))\n",
    "        x = self.fc3(x)\n",
    "#         return torch.nn.functional.softmax(x, dim=1)\n",
    "        return x\n",
    "\n",
    "\n",
    "model = NeuralNet()"
   ]
  },
  {
   "cell_type": "code",
   "execution_count": 34,
   "id": "banned-filter",
   "metadata": {},
   "outputs": [
    {
     "name": "stdout",
     "output_type": "stream",
     "text": [
      "torch.Size([4883, 50, 50])\n",
      "torch.Size([4883, 5])\n"
     ]
    }
   ],
   "source": [
    "loss_fn = nn.CrossEntropyLoss()\n",
    "optimizer = torch.optim.Adam(model.parameters(), lr=1e-3)\n",
    "print(train_x.shape)\n",
    "print(train_y.shape)"
   ]
  },
  {
   "cell_type": "code",
   "execution_count": 35,
   "id": "palestinian-october",
   "metadata": {},
   "outputs": [
    {
     "name": "stderr",
     "output_type": "stream",
     "text": [
      "  0%|          | 0/49 [00:00<?, ?it/s]/Library/Frameworks/Python.framework/Versions/3.6/lib/python3.6/site-packages/torch/nn/functional.py:718: UserWarning: Named tensors and all their associated APIs are an experimental feature and subject to change. Please do not use them for anything important until they are released as stable. (Triggered internally at  ../c10/core/TensorImpl.h:1156.)\n",
      "  return torch.max_pool2d(input, kernel_size, stride, padding, dilation, ceil_mode)\n",
      "  2%|▏         | 1/49 [00:00<00:12,  3.71it/s]"
     ]
    },
    {
     "name": "stdout",
     "output_type": "stream",
     "text": [
      "torch.Size([100, 5])\n",
      "torch.Size([100, 5])\n",
      "torch.Size([100, 5])\n",
      "torch.Size([100, 5])\n",
      "torch.Size([100, 5])\n",
      "torch.Size([100, 5])\n"
     ]
    },
    {
     "name": "stderr",
     "output_type": "stream",
     "text": [
      " 12%|█▏        | 6/49 [00:00<00:03, 13.81it/s]"
     ]
    },
    {
     "name": "stdout",
     "output_type": "stream",
     "text": [
      "torch.Size([100, 5])\n",
      "torch.Size([100, 5])\n",
      "torch.Size([100, 5])\n",
      "torch.Size([100, 5])\n",
      "torch.Size([100, 5])\n",
      "torch.Size([100, 5])\n",
      "torch.Size([100, 5])\n",
      "torch.Size([100, 5])\n",
      "torch.Size([100, 5])\n",
      "torch.Size([100, 5])\n"
     ]
    },
    {
     "name": "stderr",
     "output_type": "stream",
     "text": [
      " 22%|██▏       | 11/49 [00:00<00:02, 17.58it/s]"
     ]
    },
    {
     "name": "stdout",
     "output_type": "stream",
     "text": [
      "torch.Size([100, 5])\n",
      "torch.Size([100, 5])\n",
      "torch.Size([100, 5])\n",
      "torch.Size([100, 5])\n",
      "torch.Size([100, 5])\n",
      "torch.Size([100, 5])\n",
      "torch.Size([100, 5])\n",
      "torch.Size([100, 5])\n",
      "torch.Size([100, 5])\n",
      "torch.Size([100, 5])\n"
     ]
    },
    {
     "name": "stderr",
     "output_type": "stream",
     "text": [
      " 35%|███▍      | 17/49 [00:01<00:01, 18.90it/s]"
     ]
    },
    {
     "name": "stdout",
     "output_type": "stream",
     "text": [
      "torch.Size([100, 5])\n",
      "torch.Size([100, 5])\n",
      "torch.Size([100, 5])\n",
      "torch.Size([100, 5])\n",
      "torch.Size([100, 5])\n",
      "torch.Size([100, 5])\n",
      "torch.Size([100, 5])\n",
      "torch.Size([100, 5])\n"
     ]
    },
    {
     "name": "stderr",
     "output_type": "stream",
     "text": [
      "\r",
      " 41%|████      | 20/49 [00:01<00:01, 19.39it/s]"
     ]
    },
    {
     "name": "stdout",
     "output_type": "stream",
     "text": [
      "torch.Size([100, 5])\n",
      "torch.Size([100, 5])\n",
      "torch.Size([100, 5])\n",
      "torch.Size([100, 5])\n",
      "torch.Size([100, 5])\n",
      "torch.Size([100, 5])\n",
      "torch.Size([100, 5])\n",
      "torch.Size([100, 5])\n",
      "torch.Size([100, 5])\n",
      "torch.Size([100, 5])\n"
     ]
    },
    {
     "name": "stderr",
     "output_type": "stream",
     "text": [
      " 53%|█████▎    | 26/49 [00:01<00:01, 19.45it/s]"
     ]
    },
    {
     "name": "stdout",
     "output_type": "stream",
     "text": [
      "torch.Size([100, 5])\n",
      "torch.Size([100, 5])\n",
      "torch.Size([100, 5])\n",
      "torch.Size([100, 5])\n",
      "torch.Size([100, 5])\n",
      "torch.Size([100, 5])\n",
      "torch.Size([100, 5])\n",
      "torch.Size([100, 5])\n"
     ]
    },
    {
     "name": "stderr",
     "output_type": "stream",
     "text": [
      "\r",
      " 59%|█████▉    | 29/49 [00:01<00:01, 19.82it/s]"
     ]
    },
    {
     "name": "stdout",
     "output_type": "stream",
     "text": [
      "torch.Size([100, 5])\n",
      "torch.Size([100, 5])\n",
      "torch.Size([100, 5])\n",
      "torch.Size([100, 5])\n",
      "torch.Size([100, 5])\n",
      "torch.Size([100, 5])\n",
      "torch.Size([100, 5])\n",
      "torch.Size([100, 5])\n",
      "torch.Size([100, 5])\n",
      "torch.Size([100, 5])\n"
     ]
    },
    {
     "name": "stderr",
     "output_type": "stream",
     "text": [
      " 71%|███████▏  | 35/49 [00:01<00:00, 19.80it/s]"
     ]
    },
    {
     "name": "stdout",
     "output_type": "stream",
     "text": [
      "torch.Size([100, 5])\n",
      "torch.Size([100, 5])\n",
      "torch.Size([100, 5])\n",
      "torch.Size([100, 5])\n",
      "torch.Size([100, 5])\n",
      "torch.Size([100, 5])\n",
      "torch.Size([100, 5])\n",
      "torch.Size([100, 5])\n"
     ]
    },
    {
     "name": "stderr",
     "output_type": "stream",
     "text": [
      "\r",
      " 76%|███████▌  | 37/49 [00:02<00:00, 19.70it/s]"
     ]
    },
    {
     "name": "stdout",
     "output_type": "stream",
     "text": [
      "torch.Size([100, 5])\n",
      "torch.Size([100, 5])\n",
      "torch.Size([100, 5])\n",
      "torch.Size([100, 5])\n",
      "torch.Size([100, 5])\n",
      "torch.Size([100, 5])\n",
      "torch.Size([100, 5])\n",
      "torch.Size([100, 5])\n",
      "torch.Size([100, 5])\n",
      "torch.Size([100, 5])\n"
     ]
    },
    {
     "name": "stderr",
     "output_type": "stream",
     "text": [
      " 90%|████████▉ | 44/49 [00:02<00:00, 19.77it/s]"
     ]
    },
    {
     "name": "stdout",
     "output_type": "stream",
     "text": [
      "torch.Size([100, 5])\n",
      "torch.Size([100, 5])\n",
      "torch.Size([100, 5])\n",
      "torch.Size([100, 5])\n",
      "torch.Size([100, 5])\n",
      "torch.Size([100, 5])\n",
      "torch.Size([100, 5])\n",
      "torch.Size([100, 5])\n"
     ]
    },
    {
     "name": "stderr",
     "output_type": "stream",
     "text": [
      "\r",
      " 96%|█████████▌| 47/49 [00:02<00:00, 20.07it/s]"
     ]
    },
    {
     "name": "stdout",
     "output_type": "stream",
     "text": [
      "torch.Size([100, 5])\n",
      "torch.Size([100, 5])\n",
      "torch.Size([100, 5])\n",
      "torch.Size([100, 5])\n",
      "torch.Size([100, 5])\n",
      "torch.Size([100, 5])\n",
      "torch.Size([100, 5])\n",
      "torch.Size([100, 5])\n",
      "torch.Size([83, 5])\n",
      "torch.Size([83, 5])\n"
     ]
    },
    {
     "name": "stderr",
     "output_type": "stream",
     "text": [
      "100%|██████████| 49/49 [00:02<00:00, 18.38it/s]\n"
     ]
    },
    {
     "name": "stdout",
     "output_type": "stream",
     "text": [
      "Epoch: 1. Loss: 1.545719027519226\n"
     ]
    },
    {
     "name": "stderr",
     "output_type": "stream",
     "text": [
      "  4%|▍         | 2/49 [00:00<00:02, 19.18it/s]"
     ]
    },
    {
     "name": "stdout",
     "output_type": "stream",
     "text": [
      "torch.Size([100, 5])\n",
      "torch.Size([100, 5])\n",
      "torch.Size([100, 5])\n",
      "torch.Size([100, 5])\n",
      "torch.Size([100, 5])\n",
      "torch.Size([100, 5])\n",
      "torch.Size([100, 5])\n",
      "torch.Size([100, 5])\n"
     ]
    },
    {
     "name": "stderr",
     "output_type": "stream",
     "text": [
      " 12%|█▏        | 6/49 [00:00<00:02, 19.53it/s]"
     ]
    },
    {
     "name": "stdout",
     "output_type": "stream",
     "text": [
      "torch.Size([100, 5])\n",
      "torch.Size([100, 5])\n",
      "torch.Size([100, 5])\n",
      "torch.Size([100, 5])\n",
      "torch.Size([100, 5])\n",
      "torch.Size([100, 5])\n",
      "torch.Size([100, 5])\n",
      "torch.Size([100, 5])\n",
      "torch.Size([100, 5])\n",
      "torch.Size([100, 5])\n"
     ]
    },
    {
     "name": "stderr",
     "output_type": "stream",
     "text": [
      " 24%|██▍       | 12/49 [00:00<00:01, 20.13it/s]"
     ]
    },
    {
     "name": "stdout",
     "output_type": "stream",
     "text": [
      "torch.Size([100, 5])\n",
      "torch.Size([100, 5])\n",
      "torch.Size([100, 5])\n",
      "torch.Size([100, 5])\n",
      "torch.Size([100, 5])\n",
      "torch.Size([100, 5])\n",
      "torch.Size([100, 5])\n",
      "torch.Size([100, 5])\n",
      "torch.Size([100, 5])\n",
      "torch.Size([100, 5])\n"
     ]
    },
    {
     "name": "stderr",
     "output_type": "stream",
     "text": [
      " 37%|███▋      | 18/49 [00:00<00:01, 20.19it/s]"
     ]
    },
    {
     "name": "stdout",
     "output_type": "stream",
     "text": [
      "torch.Size([100, 5])\n",
      "torch.Size([100, 5])\n",
      "torch.Size([100, 5])\n",
      "torch.Size([100, 5])\n",
      "torch.Size([100, 5])\n",
      "torch.Size([100, 5])\n",
      "torch.Size([100, 5])\n",
      "torch.Size([100, 5])\n",
      "torch.Size([100, 5])\n",
      "torch.Size([100, 5])\n"
     ]
    },
    {
     "name": "stderr",
     "output_type": "stream",
     "text": [
      "\r",
      " 43%|████▎     | 21/49 [00:01<00:01, 20.29it/s]"
     ]
    },
    {
     "name": "stdout",
     "output_type": "stream",
     "text": [
      "torch.Size([100, 5])\n",
      "torch.Size([100, 5])\n",
      "torch.Size([100, 5])\n",
      "torch.Size([100, 5])\n",
      "torch.Size([100, 5])\n",
      "torch.Size([100, 5])\n",
      "torch.Size([100, 5])\n",
      "torch.Size([100, 5])\n",
      "torch.Size([100, 5])\n",
      "torch.Size([100, 5])\n"
     ]
    },
    {
     "name": "stderr",
     "output_type": "stream",
     "text": [
      " 55%|█████▌    | 27/49 [00:01<00:01, 20.57it/s]"
     ]
    },
    {
     "name": "stdout",
     "output_type": "stream",
     "text": [
      "torch.Size([100, 5])\n",
      "torch.Size([100, 5])\n",
      "torch.Size([100, 5])\n",
      "torch.Size([100, 5])\n",
      "torch.Size([100, 5])\n",
      "torch.Size([100, 5])\n",
      "torch.Size([100, 5])\n",
      "torch.Size([100, 5])\n",
      "torch.Size([100, 5])\n",
      "torch.Size([100, 5])\n"
     ]
    },
    {
     "name": "stderr",
     "output_type": "stream",
     "text": [
      " 67%|██████▋   | 33/49 [00:01<00:00, 20.66it/s]"
     ]
    },
    {
     "name": "stdout",
     "output_type": "stream",
     "text": [
      "torch.Size([100, 5])\n",
      "torch.Size([100, 5])\n",
      "torch.Size([100, 5])\n",
      "torch.Size([100, 5])\n",
      "torch.Size([100, 5])\n",
      "torch.Size([100, 5])\n",
      "torch.Size([100, 5])\n",
      "torch.Size([100, 5])\n",
      "torch.Size([100, 5])\n",
      "torch.Size([100, 5])\n"
     ]
    },
    {
     "name": "stderr",
     "output_type": "stream",
     "text": [
      "\r",
      " 73%|███████▎  | 36/49 [00:01<00:00, 20.70it/s]"
     ]
    },
    {
     "name": "stdout",
     "output_type": "stream",
     "text": [
      "torch.Size([100, 5])\n",
      "torch.Size([100, 5])\n",
      "torch.Size([100, 5])\n",
      "torch.Size([100, 5])\n",
      "torch.Size([100, 5])\n",
      "torch.Size([100, 5])\n",
      "torch.Size([100, 5])\n",
      "torch.Size([100, 5])\n",
      "torch.Size([100, 5])\n",
      "torch.Size([100, 5])\n"
     ]
    },
    {
     "name": "stderr",
     "output_type": "stream",
     "text": [
      " 86%|████████▌ | 42/49 [00:02<00:00, 20.67it/s]"
     ]
    },
    {
     "name": "stdout",
     "output_type": "stream",
     "text": [
      "torch.Size([100, 5])\n",
      "torch.Size([100, 5])\n",
      "torch.Size([100, 5])\n",
      "torch.Size([100, 5])\n",
      "torch.Size([100, 5])\n",
      "torch.Size([100, 5])\n",
      "torch.Size([100, 5])\n",
      "torch.Size([100, 5])\n",
      "torch.Size([100, 5])\n",
      "torch.Size([100, 5])\n"
     ]
    },
    {
     "name": "stderr",
     "output_type": "stream",
     "text": [
      " 98%|█████████▊| 48/49 [00:02<00:00, 20.66it/s]"
     ]
    },
    {
     "name": "stdout",
     "output_type": "stream",
     "text": [
      "torch.Size([100, 5])\n",
      "torch.Size([100, 5])\n",
      "torch.Size([100, 5])\n",
      "torch.Size([100, 5])\n",
      "torch.Size([100, 5])\n",
      "torch.Size([100, 5])\n",
      "torch.Size([100, 5])\n",
      "torch.Size([100, 5])\n",
      "torch.Size([83, 5])\n",
      "torch.Size([83, 5])\n"
     ]
    },
    {
     "name": "stderr",
     "output_type": "stream",
     "text": [
      "100%|██████████| 49/49 [00:02<00:00, 20.48it/s]\n"
     ]
    },
    {
     "name": "stdout",
     "output_type": "stream",
     "text": [
      "Epoch: 2. Loss: 1.5350005626678467\n"
     ]
    },
    {
     "name": "stderr",
     "output_type": "stream",
     "text": [
      "  4%|▍         | 2/49 [00:00<00:02, 19.83it/s]"
     ]
    },
    {
     "name": "stdout",
     "output_type": "stream",
     "text": [
      "torch.Size([100, 5])\n",
      "torch.Size([100, 5])\n",
      "torch.Size([100, 5])\n",
      "torch.Size([100, 5])\n",
      "torch.Size([100, 5])\n",
      "torch.Size([100, 5])\n",
      "torch.Size([100, 5])\n",
      "torch.Size([100, 5])\n",
      "torch.Size([100, 5])\n",
      "torch.Size([100, 5])\n"
     ]
    },
    {
     "name": "stderr",
     "output_type": "stream",
     "text": [
      " 16%|█▋        | 8/49 [00:00<00:02, 20.15it/s]"
     ]
    },
    {
     "name": "stdout",
     "output_type": "stream",
     "text": [
      "torch.Size([100, 5])\n",
      "torch.Size([100, 5])\n",
      "torch.Size([100, 5])\n",
      "torch.Size([100, 5])\n",
      "torch.Size([100, 5])\n",
      "torch.Size([100, 5])\n",
      "torch.Size([100, 5])\n",
      "torch.Size([100, 5])\n",
      "torch.Size([100, 5])\n",
      "torch.Size([100, 5])\n"
     ]
    },
    {
     "name": "stderr",
     "output_type": "stream",
     "text": [
      "\r",
      " 22%|██▏       | 11/49 [00:00<00:01, 20.08it/s]"
     ]
    },
    {
     "name": "stdout",
     "output_type": "stream",
     "text": [
      "torch.Size([100, 5])\n",
      "torch.Size([100, 5])\n",
      "torch.Size([100, 5])\n",
      "torch.Size([100, 5])\n",
      "torch.Size([100, 5])\n",
      "torch.Size([100, 5])\n",
      "torch.Size([100, 5])\n",
      "torch.Size([100, 5])\n"
     ]
    },
    {
     "name": "stderr",
     "output_type": "stream",
     "text": [
      "\r",
      " 29%|██▊       | 14/49 [00:00<00:01, 20.25it/s]"
     ]
    },
    {
     "name": "stdout",
     "output_type": "stream",
     "text": [
      "torch.Size([100, 5])\n",
      "torch.Size([100, 5])\n"
     ]
    },
    {
     "name": "stderr",
     "output_type": "stream",
     "text": [
      "\r",
      " 35%|███▍      | 17/49 [00:00<00:01, 20.17it/s]"
     ]
    },
    {
     "name": "stdout",
     "output_type": "stream",
     "text": [
      "torch.Size([100, 5])\n",
      "torch.Size([100, 5])\n",
      "torch.Size([100, 5])\n",
      "torch.Size([100, 5])\n",
      "torch.Size([100, 5])\n",
      "torch.Size([100, 5])\n",
      "torch.Size([100, 5])\n",
      "torch.Size([100, 5])\n",
      "torch.Size([100, 5])"
     ]
    },
    {
     "name": "stderr",
     "output_type": "stream",
     "text": [
      "\r",
      " 41%|████      | 20/49 [00:00<00:01, 19.91it/s]"
     ]
    },
    {
     "name": "stdout",
     "output_type": "stream",
     "text": [
      "\n",
      "torch.Size([100, 5])\n",
      "torch.Size([100, 5])\n",
      "torch.Size([100, 5])\n",
      "torch.Size([100, 5])\n",
      "torch.Size([100, 5])\n",
      "torch.Size([100, 5])\n",
      "torch.Size([100, 5])\n"
     ]
    },
    {
     "name": "stderr",
     "output_type": "stream",
     "text": [
      " 55%|█████▌    | 27/49 [00:01<00:01, 19.80it/s]"
     ]
    },
    {
     "name": "stdout",
     "output_type": "stream",
     "text": [
      "torch.Size([100, 5])\n",
      "torch.Size([100, 5])\n",
      "torch.Size([100, 5])\n",
      "torch.Size([100, 5])\n",
      "torch.Size([100, 5])\n",
      "torch.Size([100, 5])\n",
      "torch.Size([100, 5])\n",
      "torch.Size([100, 5])\n"
     ]
    },
    {
     "name": "stderr",
     "output_type": "stream",
     "text": [
      "\r",
      " 59%|█████▉    | 29/49 [00:01<00:01, 19.84it/s]"
     ]
    },
    {
     "name": "stdout",
     "output_type": "stream",
     "text": [
      "torch.Size([100, 5])\n",
      "torch.Size([100, 5])\n",
      "torch.Size([100, 5])\n",
      "torch.Size([100, 5])\n",
      "torch.Size([100, 5])\n",
      "torch.Size([100, 5])\n",
      "torch.Size([100, 5])\n",
      "torch.Size([100, 5])\n",
      "torch.Size([100, 5])\n",
      "torch.Size([100, 5])\n"
     ]
    },
    {
     "name": "stderr",
     "output_type": "stream",
     "text": [
      " 73%|███████▎  | 36/49 [00:01<00:00, 19.28it/s]"
     ]
    },
    {
     "name": "stdout",
     "output_type": "stream",
     "text": [
      "torch.Size([100, 5])\n",
      "torch.Size([100, 5])\n",
      "torch.Size([100, 5])\n",
      "torch.Size([100, 5])\n",
      "torch.Size([100, 5])\n",
      "torch.Size([100, 5])\n",
      "torch.Size([100, 5])\n",
      "torch.Size([100, 5])\n"
     ]
    },
    {
     "name": "stderr",
     "output_type": "stream",
     "text": [
      " 82%|████████▏ | 40/49 [00:02<00:00, 19.26it/s]"
     ]
    },
    {
     "name": "stdout",
     "output_type": "stream",
     "text": [
      "torch.Size([100, 5])\n",
      "torch.Size([100, 5])\n",
      "torch.Size([100, 5])\n",
      "torch.Size([100, 5])\n",
      "torch.Size([100, 5])\n",
      "torch.Size([100, 5])\n",
      "torch.Size([100, 5])\n",
      "torch.Size([100, 5])\n"
     ]
    },
    {
     "name": "stderr",
     "output_type": "stream",
     "text": [
      "\r",
      " 88%|████████▊ | 43/49 [00:02<00:00, 19.58it/s]"
     ]
    },
    {
     "name": "stdout",
     "output_type": "stream",
     "text": [
      "torch.Size([100, 5])\n",
      "torch.Size([100, 5])\n",
      "torch.Size([100, 5])\n",
      "torch.Size([100, 5])\n",
      "torch.Size([100, 5])\n",
      "torch.Size([100, 5])\n",
      "torch.Size([100, 5])\n",
      "torch.Size([100, 5])\n",
      "torch.Size([100, 5])\n",
      "torch.Size([100, 5])\n"
     ]
    },
    {
     "name": "stderr",
     "output_type": "stream",
     "text": [
      "100%|██████████| 49/49 [00:02<00:00, 19.85it/s]\n"
     ]
    },
    {
     "name": "stdout",
     "output_type": "stream",
     "text": [
      "torch.Size([100, 5])\n",
      "torch.Size([100, 5])\n",
      "torch.Size([100, 5])\n",
      "torch.Size([100, 5])\n",
      "torch.Size([100, 5])\n",
      "torch.Size([100, 5])\n",
      "torch.Size([83, 5])\n",
      "torch.Size([83, 5])\n",
      "Epoch: 3. Loss: 1.4307100772857666\n"
     ]
    },
    {
     "name": "stderr",
     "output_type": "stream",
     "text": [
      "\r",
      "  0%|          | 0/49 [00:00<?, ?it/s]"
     ]
    },
    {
     "name": "stdout",
     "output_type": "stream",
     "text": [
      "torch.Size([100, 5])\n",
      "torch.Size([100, 5])\n"
     ]
    },
    {
     "name": "stderr",
     "output_type": "stream",
     "text": [
      "\r",
      "  4%|▍         | 2/49 [00:00<00:02, 19.35it/s]"
     ]
    },
    {
     "name": "stdout",
     "output_type": "stream",
     "text": [
      "torch.Size([100, 5])\n",
      "torch.Size([100, 5])\n",
      "torch.Size([100, 5])\n",
      "torch.Size([100, 5])\n",
      "torch.Size([100, 5])\n",
      "torch.Size([100, 5])\n",
      "torch.Size([100, 5])\n",
      "torch.Size([100, 5])\n"
     ]
    },
    {
     "name": "stderr",
     "output_type": "stream",
     "text": [
      "\r",
      " 10%|█         | 5/49 [00:00<00:02, 20.09it/s]"
     ]
    },
    {
     "name": "stdout",
     "output_type": "stream",
     "text": [
      "torch.Size([100, 5])\n",
      "torch.Size([100, 5])\n"
     ]
    },
    {
     "name": "stderr",
     "output_type": "stream",
     "text": [
      "\r",
      " 16%|█▋        | 8/49 [00:00<00:02, 20.31it/s]"
     ]
    },
    {
     "name": "stdout",
     "output_type": "stream",
     "text": [
      "torch.Size([100, 5])\n",
      "torch.Size([100, 5])\n",
      "torch.Size([100, 5])\n",
      "torch.Size([100, 5])\n",
      "torch.Size([100, 5])\n",
      "torch.Size([100, 5])\n",
      "torch.Size([100, 5])\n",
      "torch.Size([100, 5])\n",
      "torch.Size([100, 5])\n",
      "torch.Size([100, 5])\n"
     ]
    },
    {
     "name": "stderr",
     "output_type": "stream",
     "text": [
      " 29%|██▊       | 14/49 [00:00<00:01, 20.49it/s]"
     ]
    },
    {
     "name": "stdout",
     "output_type": "stream",
     "text": [
      "torch.Size([100, 5])\n",
      "torch.Size([100, 5])\n",
      "torch.Size([100, 5])\n",
      "torch.Size([100, 5])\n",
      "torch.Size([100, 5])\n",
      "torch.Size([100, 5])\n",
      "torch.Size([100, 5])\n",
      "torch.Size([100, 5])\n",
      "torch.Size([100, 5])\n",
      "torch.Size([100, 5])\n"
     ]
    },
    {
     "name": "stderr",
     "output_type": "stream",
     "text": [
      "\r",
      " 35%|███▍      | 17/49 [00:00<00:01, 20.51it/s]"
     ]
    },
    {
     "name": "stdout",
     "output_type": "stream",
     "text": [
      "torch.Size([100, 5])\n",
      "torch.Size([100, 5])\n",
      "torch.Size([100, 5])\n",
      "torch.Size([100, 5])\n",
      "torch.Size([100, 5])\n",
      "torch.Size([100, 5])\n",
      "torch.Size([100, 5])\n",
      "torch.Size([100, 5])\n"
     ]
    },
    {
     "name": "stderr",
     "output_type": "stream",
     "text": [
      "\r",
      " 41%|████      | 20/49 [00:00<00:01, 20.50it/s]"
     ]
    },
    {
     "name": "stdout",
     "output_type": "stream",
     "text": [
      "torch.Size([100, 5])\n",
      "torch.Size([100, 5])\n"
     ]
    },
    {
     "name": "stderr",
     "output_type": "stream",
     "text": [
      "\r",
      " 47%|████▋     | 23/49 [00:01<00:01, 20.56it/s]"
     ]
    },
    {
     "name": "stdout",
     "output_type": "stream",
     "text": [
      "torch.Size([100, 5])\n",
      "torch.Size([100, 5])\n",
      "torch.Size([100, 5])\n",
      "torch.Size([100, 5])\n",
      "torch.Size([100, 5])\n",
      "torch.Size([100, 5])\n",
      "torch.Size([100, 5])\n",
      "torch.Size([100, 5])\n",
      "torch.Size([100, 5])\n",
      "torch.Size([100, 5])\n"
     ]
    },
    {
     "name": "stderr",
     "output_type": "stream",
     "text": [
      " 59%|█████▉    | 29/49 [00:01<00:00, 20.64it/s]"
     ]
    },
    {
     "name": "stdout",
     "output_type": "stream",
     "text": [
      "torch.Size([100, 5])\n",
      "torch.Size([100, 5])\n",
      "torch.Size([100, 5])\n",
      "torch.Size([100, 5])\n",
      "torch.Size([100, 5])\n",
      "torch.Size([100, 5])\n",
      "torch.Size([100, 5])\n",
      "torch.Size([100, 5])\n",
      "torch.Size([100, 5])\n",
      "torch.Size([100, 5])\n"
     ]
    },
    {
     "name": "stderr",
     "output_type": "stream",
     "text": [
      "\r",
      " 65%|██████▌   | 32/49 [00:01<00:00, 20.54it/s]"
     ]
    },
    {
     "name": "stdout",
     "output_type": "stream",
     "text": [
      "torch.Size([100, 5])\n",
      "torch.Size([100, 5])\n",
      "torch.Size([100, 5])\n",
      "torch.Size([100, 5])\n",
      "torch.Size([100, 5])\n",
      "torch.Size([100, 5])\n",
      "torch.Size([100, 5])\n",
      "torch.Size([100, 5])\n"
     ]
    },
    {
     "name": "stderr",
     "output_type": "stream",
     "text": [
      "\r",
      " 71%|███████▏  | 35/49 [00:01<00:00, 20.45it/s]"
     ]
    },
    {
     "name": "stdout",
     "output_type": "stream",
     "text": [
      "torch.Size([100, 5])\n",
      "torch.Size([100, 5])\n"
     ]
    },
    {
     "name": "stderr",
     "output_type": "stream",
     "text": [
      "\r",
      " 78%|███████▊  | 38/49 [00:01<00:00, 20.08it/s]"
     ]
    },
    {
     "name": "stdout",
     "output_type": "stream",
     "text": [
      "torch.Size([100, 5])\n",
      "torch.Size([100, 5])\n",
      "torch.Size([100, 5])\n",
      "torch.Size([100, 5])\n",
      "torch.Size([100, 5])\n",
      "torch.Size([100, 5])\n",
      "torch.Size([100, 5])\n",
      "torch.Size([100, 5])\n"
     ]
    },
    {
     "name": "stderr",
     "output_type": "stream",
     "text": [
      " 88%|████████▊ | 43/49 [00:02<00:00, 19.91it/s]"
     ]
    },
    {
     "name": "stdout",
     "output_type": "stream",
     "text": [
      "torch.Size([100, 5])\n",
      "torch.Size([100, 5])\n",
      "torch.Size([100, 5])\n",
      "torch.Size([100, 5])\n",
      "torch.Size([100, 5])\n",
      "torch.Size([100, 5])\n",
      "torch.Size([100, 5])\n",
      "torch.Size([100, 5])\n"
     ]
    },
    {
     "name": "stderr",
     "output_type": "stream",
     "text": [
      "\r",
      " 92%|█████████▏| 45/49 [00:02<00:00, 19.86it/s]"
     ]
    },
    {
     "name": "stdout",
     "output_type": "stream",
     "text": [
      "torch.Size([100, 5])\n",
      "torch.Size([100, 5])\n",
      "torch.Size([100, 5])\n",
      "torch.Size([100, 5])\n",
      "torch.Size([100, 5])\n",
      "torch.Size([100, 5])\n",
      "torch.Size([100, 5])\n",
      "torch.Size([100, 5])\n"
     ]
    },
    {
     "name": "stderr",
     "output_type": "stream",
     "text": [
      "\r",
      " 98%|█████████▊| 48/49 [00:02<00:00, 19.94it/s]"
     ]
    },
    {
     "name": "stdout",
     "output_type": "stream",
     "text": [
      "torch.Size([83, 5])\n",
      "torch.Size([83, 5])\n"
     ]
    },
    {
     "name": "stderr",
     "output_type": "stream",
     "text": [
      "100%|██████████| 49/49 [00:02<00:00, 20.29it/s]\n"
     ]
    },
    {
     "name": "stdout",
     "output_type": "stream",
     "text": [
      "Epoch: 4. Loss: 1.3459868431091309\n"
     ]
    },
    {
     "name": "stderr",
     "output_type": "stream",
     "text": [
      "  4%|▍         | 2/49 [00:00<00:02, 19.29it/s]"
     ]
    },
    {
     "name": "stdout",
     "output_type": "stream",
     "text": [
      "torch.Size([100, 5])\n",
      "torch.Size([100, 5])\n",
      "torch.Size([100, 5])\n",
      "torch.Size([100, 5])\n",
      "torch.Size([100, 5])\n",
      "torch.Size([100, 5])\n",
      "torch.Size([100, 5])\n",
      "torch.Size([100, 5])\n"
     ]
    },
    {
     "name": "stderr",
     "output_type": "stream",
     "text": [
      "\r",
      " 10%|█         | 5/49 [00:00<00:02, 19.82it/s]"
     ]
    },
    {
     "name": "stdout",
     "output_type": "stream",
     "text": [
      "torch.Size([100, 5])\n",
      "torch.Size([100, 5])\n",
      "torch.Size([100, 5])\n",
      "torch.Size([100, 5])\n",
      "torch.Size([100, 5])\n",
      "torch.Size([100, 5])\n",
      "torch.Size([100, 5])\n",
      "torch.Size([100, 5])\n"
     ]
    },
    {
     "name": "stderr",
     "output_type": "stream",
     "text": [
      "\r",
      " 16%|█▋        | 8/49 [00:00<00:02, 20.02it/s]"
     ]
    },
    {
     "name": "stdout",
     "output_type": "stream",
     "text": [
      "torch.Size([100, 5])\n",
      "torch.Size([100, 5])\n"
     ]
    },
    {
     "name": "stderr",
     "output_type": "stream",
     "text": [
      "\r",
      " 22%|██▏       | 11/49 [00:00<00:01, 20.07it/s]"
     ]
    },
    {
     "name": "stdout",
     "output_type": "stream",
     "text": [
      "torch.Size([100, 5])\n",
      "torch.Size([100, 5])\n",
      "torch.Size([100, 5])\n",
      "torch.Size([100, 5])\n",
      "torch.Size([100, 5])\n",
      "torch.Size([100, 5])\n",
      "torch.Size([100, 5])\n",
      "torch.Size([100, 5])\n"
     ]
    },
    {
     "name": "stderr",
     "output_type": "stream",
     "text": [
      " 35%|███▍      | 17/49 [00:00<00:01, 20.01it/s]"
     ]
    },
    {
     "name": "stdout",
     "output_type": "stream",
     "text": [
      "torch.Size([100, 5])\n",
      "torch.Size([100, 5])\n",
      "torch.Size([100, 5])\n",
      "torch.Size([100, 5])\n",
      "torch.Size([100, 5])\n",
      "torch.Size([100, 5])\n",
      "torch.Size([100, 5])\n",
      "torch.Size([100, 5])\n",
      "torch.Size([100, 5])\n",
      "torch.Size([100, 5])\n",
      "torch.Size([100, 5])\n",
      "torch.Size([100, 5])\n"
     ]
    },
    {
     "name": "stderr",
     "output_type": "stream",
     "text": [
      "\r",
      " 41%|████      | 20/49 [00:00<00:01, 20.14it/s]"
     ]
    },
    {
     "name": "stdout",
     "output_type": "stream",
     "text": [
      "torch.Size([100, 5])\n",
      "torch.Size([100, 5])\n",
      "torch.Size([100, 5])\n",
      "torch.Size([100, 5])\n",
      "torch.Size([100, 5])\n",
      "torch.Size([100, 5])\n",
      "torch.Size([100, 5])\n",
      "torch.Size([100, 5])\n"
     ]
    },
    {
     "name": "stderr",
     "output_type": "stream",
     "text": [
      "\r",
      " 47%|████▋     | 23/49 [00:01<00:01, 20.21it/s]"
     ]
    },
    {
     "name": "stdout",
     "output_type": "stream",
     "text": [
      "torch.Size([100, 5])\n",
      "torch.Size([100, 5])\n"
     ]
    },
    {
     "name": "stderr",
     "output_type": "stream",
     "text": [
      "\r",
      " 53%|█████▎    | 26/49 [00:01<00:01, 20.39it/s]"
     ]
    },
    {
     "name": "stdout",
     "output_type": "stream",
     "text": [
      "torch.Size([100, 5])\n",
      "torch.Size([100, 5])\n",
      "torch.Size([100, 5])\n",
      "torch.Size([100, 5])\n",
      "torch.Size([100, 5])\n",
      "torch.Size([100, 5])\n",
      "torch.Size([100, 5])\n",
      "torch.Size([100, 5])\n",
      "torch.Size([100, 5])\n",
      "torch.Size([100, 5])\n"
     ]
    },
    {
     "name": "stderr",
     "output_type": "stream",
     "text": [
      " 65%|██████▌   | 32/49 [00:01<00:00, 20.36it/s]"
     ]
    },
    {
     "name": "stdout",
     "output_type": "stream",
     "text": [
      "torch.Size([100, 5])\n",
      "torch.Size([100, 5])\n",
      "torch.Size([100, 5])\n",
      "torch.Size([100, 5])\n",
      "torch.Size([100, 5])\n",
      "torch.Size([100, 5])\n",
      "torch.Size([100, 5])\n",
      "torch.Size([100, 5])\n",
      "torch.Size([100, 5])\n",
      "torch.Size([100, 5])\n"
     ]
    },
    {
     "name": "stderr",
     "output_type": "stream",
     "text": [
      "\r",
      " 71%|███████▏  | 35/49 [00:01<00:00, 20.33it/s]"
     ]
    },
    {
     "name": "stdout",
     "output_type": "stream",
     "text": [
      "torch.Size([100, 5])\n",
      "torch.Size([100, 5])\n",
      "torch.Size([100, 5])\n",
      "torch.Size([100, 5])\n",
      "torch.Size([100, 5])\n",
      "torch.Size([100, 5])\n",
      "torch.Size([100, 5])\n",
      "torch.Size([100, 5])\n"
     ]
    },
    {
     "name": "stderr",
     "output_type": "stream",
     "text": [
      "\r",
      " 78%|███████▊  | 38/49 [00:01<00:00, 20.39it/s]"
     ]
    },
    {
     "name": "stdout",
     "output_type": "stream",
     "text": [
      "torch.Size([100, 5])\n",
      "torch.Size([100, 5])\n"
     ]
    },
    {
     "name": "stderr",
     "output_type": "stream",
     "text": [
      "\r",
      " 84%|████████▎ | 41/49 [00:02<00:00, 20.08it/s]"
     ]
    },
    {
     "name": "stdout",
     "output_type": "stream",
     "text": [
      "torch.Size([100, 5])\n",
      "torch.Size([100, 5])\n",
      "torch.Size([100, 5])\n",
      "torch.Size([100, 5])\n",
      "torch.Size([100, 5])\n",
      "torch.Size([100, 5])\n",
      "torch.Size([100, 5])\n",
      "torch.Size([100, 5])\n",
      "torch.Size([100, 5])\n",
      "torch.Size([100, 5])\n"
     ]
    },
    {
     "name": "stderr",
     "output_type": "stream",
     "text": [
      "\r",
      " 90%|████████▉ | 44/49 [00:02<00:00, 20.09it/s]"
     ]
    },
    {
     "name": "stdout",
     "output_type": "stream",
     "text": [
      "torch.Size([100, 5])\n",
      "torch.Size([100, 5])\n",
      "torch.Size([100, 5])\n",
      "torch.Size([100, 5])\n",
      "torch.Size([100, 5])\n",
      "torch.Size([100, 5])\n"
     ]
    },
    {
     "name": "stderr",
     "output_type": "stream",
     "text": [
      "\r",
      " 96%|█████████▌| 47/49 [00:02<00:00, 19.99it/s]"
     ]
    },
    {
     "name": "stdout",
     "output_type": "stream",
     "text": [
      "torch.Size([100, 5])\n",
      "torch.Size([100, 5])\n",
      "torch.Size([83, 5])\n",
      "torch.Size([83, 5])\n"
     ]
    },
    {
     "name": "stderr",
     "output_type": "stream",
     "text": [
      "100%|██████████| 49/49 [00:02<00:00, 20.19it/s]\n"
     ]
    },
    {
     "name": "stdout",
     "output_type": "stream",
     "text": [
      "Epoch: 5. Loss: 1.2846819162368774\n"
     ]
    },
    {
     "name": "stderr",
     "output_type": "stream",
     "text": [
      "\r",
      "  0%|          | 0/49 [00:00<?, ?it/s]"
     ]
    },
    {
     "name": "stdout",
     "output_type": "stream",
     "text": [
      "torch.Size([100, 5])\n",
      "torch.Size([100, 5])\n",
      "torch.Size([100, 5])\n",
      "torch.Size([100, 5])\n",
      "torch.Size([100, 5])\n",
      "torch.Size([100, 5])\n"
     ]
    },
    {
     "name": "stderr",
     "output_type": "stream",
     "text": [
      "\r",
      "  6%|▌         | 3/49 [00:00<00:02, 20.31it/s]"
     ]
    },
    {
     "name": "stdout",
     "output_type": "stream",
     "text": [
      "torch.Size([100, 5])\n",
      "torch.Size([100, 5])\n",
      "torch.Size([100, 5])\n",
      "torch.Size([100, 5])\n"
     ]
    },
    {
     "name": "stderr",
     "output_type": "stream",
     "text": [
      "\r",
      " 12%|█▏        | 6/49 [00:00<00:02, 20.41it/s]"
     ]
    },
    {
     "name": "stdout",
     "output_type": "stream",
     "text": [
      "torch.Size([100, 5])\n",
      "torch.Size([100, 5])\n",
      "torch.Size([100, 5])\n",
      "torch.Size([100, 5])\n",
      "torch.Size([100, 5])\n",
      "torch.Size([100, 5])\n",
      "torch.Size([100, 5])\n",
      "torch.Size([100, 5])\n"
     ]
    },
    {
     "name": "stderr",
     "output_type": "stream",
     "text": [
      "\r",
      " 18%|█▊        | 9/49 [00:00<00:01, 20.21it/s]"
     ]
    },
    {
     "name": "stdout",
     "output_type": "stream",
     "text": [
      "torch.Size([100, 5])\n",
      "torch.Size([100, 5])\n"
     ]
    },
    {
     "name": "stderr",
     "output_type": "stream",
     "text": [
      "\r",
      " 24%|██▍       | 12/49 [00:00<00:01, 20.07it/s]"
     ]
    },
    {
     "name": "stdout",
     "output_type": "stream",
     "text": [
      "torch.Size([100, 5])\n",
      "torch.Size([100, 5])\n",
      "torch.Size([100, 5])\n",
      "torch.Size([100, 5])\n",
      "torch.Size([100, 5])\n",
      "torch.Size([100, 5])\n",
      "torch.Size([100, 5])\n",
      "torch.Size([100, 5])\n",
      "torch.Size([100, 5])\n",
      "torch.Size([100, 5])\n"
     ]
    },
    {
     "name": "stderr",
     "output_type": "stream",
     "text": [
      "\r",
      " 31%|███       | 15/49 [00:00<00:01, 19.79it/s]"
     ]
    },
    {
     "name": "stdout",
     "output_type": "stream",
     "text": [
      "torch.Size([100, 5])\n",
      "torch.Size([100, 5])\n"
     ]
    },
    {
     "name": "stderr",
     "output_type": "stream",
     "text": [
      "\r",
      " 35%|███▍      | 17/49 [00:00<00:01, 19.73it/s]"
     ]
    },
    {
     "name": "stdout",
     "output_type": "stream",
     "text": [
      "torch.Size([100, 5])\n",
      "torch.Size([100, 5])\n",
      "torch.Size([100, 5])\n",
      "torch.Size([100, 5])\n"
     ]
    },
    {
     "name": "stderr",
     "output_type": "stream",
     "text": [
      "\r",
      " 39%|███▉      | 19/49 [00:00<00:01, 19.75it/s]"
     ]
    },
    {
     "name": "stdout",
     "output_type": "stream",
     "text": [
      "torch.Size([100, 5])\n",
      "torch.Size([100, 5])\n",
      "torch.Size([100, 5])\n",
      "torch.Size([100, 5])\n"
     ]
    },
    {
     "name": "stderr",
     "output_type": "stream",
     "text": [
      "\r",
      " 43%|████▎     | 21/49 [00:01<00:01, 19.66it/s]"
     ]
    },
    {
     "name": "stdout",
     "output_type": "stream",
     "text": [
      "torch.Size([100, 5])\n",
      "torch.Size([100, 5])\n",
      "torch.Size([100, 5])\n",
      "torch.Size([100, 5])\n",
      "torch.Size([100, 5])\n",
      "torch.Size([100, 5])\n"
     ]
    },
    {
     "name": "stderr",
     "output_type": "stream",
     "text": [
      "\r",
      " 47%|████▋     | 23/49 [00:01<00:01, 19.74it/s]"
     ]
    },
    {
     "name": "stdout",
     "output_type": "stream",
     "text": [
      "torch.Size([100, 5])\n",
      "torch.Size([100, 5])\n"
     ]
    },
    {
     "name": "stderr",
     "output_type": "stream",
     "text": [
      " 55%|█████▌    | 27/49 [00:01<00:01, 19.47it/s]"
     ]
    },
    {
     "name": "stdout",
     "output_type": "stream",
     "text": [
      "torch.Size([100, 5])\n",
      "torch.Size([100, 5])\n",
      "torch.Size([100, 5])\n",
      "torch.Size([100, 5])\n",
      "torch.Size([100, 5])\n",
      "torch.Size([100, 5])\n",
      "torch.Size([100, 5])\n",
      "torch.Size([100, 5])\n"
     ]
    },
    {
     "name": "stderr",
     "output_type": "stream",
     "text": [
      "\r",
      " 59%|█████▉    | 29/49 [00:01<00:01, 19.35it/s]"
     ]
    },
    {
     "name": "stdout",
     "output_type": "stream",
     "text": [
      "torch.Size([100, 5])\n",
      "torch.Size([100, 5])\n",
      "torch.Size([100, 5])\n",
      "torch.Size([100, 5])\n",
      "torch.Size([100, 5])\n",
      "torch.Size([100, 5])\n"
     ]
    },
    {
     "name": "stderr",
     "output_type": "stream",
     "text": [
      "\r",
      " 65%|██████▌   | 32/49 [00:01<00:00, 19.58it/s]"
     ]
    },
    {
     "name": "stdout",
     "output_type": "stream",
     "text": [
      "torch.Size([100, 5])\n",
      "torch.Size([100, 5])\n"
     ]
    },
    {
     "name": "stderr",
     "output_type": "stream",
     "text": [
      "\r",
      " 69%|██████▉   | 34/49 [00:01<00:00, 19.66it/s]"
     ]
    },
    {
     "name": "stdout",
     "output_type": "stream",
     "text": [
      "torch.Size([100, 5])\n",
      "torch.Size([100, 5])\n",
      "torch.Size([100, 5])\n",
      "torch.Size([100, 5])\n",
      "torch.Size([100, 5])\n",
      "torch.Size([100, 5])\n",
      "torch.Size([100, 5])\n",
      "torch.Size([100, 5])\n"
     ]
    },
    {
     "name": "stderr",
     "output_type": "stream",
     "text": [
      "\r",
      " 76%|███████▌  | 37/49 [00:01<00:00, 19.97it/s]"
     ]
    },
    {
     "name": "stdout",
     "output_type": "stream",
     "text": [
      "torch.Size([100, 5])\n",
      "torch.Size([100, 5])\n",
      "torch.Size([100, 5])\n",
      "torch.Size([100, 5])\n"
     ]
    },
    {
     "name": "stderr",
     "output_type": "stream",
     "text": [
      "\r",
      " 82%|████████▏ | 40/49 [00:02<00:00, 20.10it/s]"
     ]
    },
    {
     "name": "stdout",
     "output_type": "stream",
     "text": [
      "torch.Size([100, 5])\n",
      "torch.Size([100, 5])\n",
      "torch.Size([100, 5])\n",
      "torch.Size([100, 5])\n",
      "torch.Size([100, 5])\n",
      "torch.Size([100, 5])\n",
      "torch.Size([100, 5])\n",
      "torch.Size([100, 5])\n",
      "torch.Size([100, 5])\n",
      "torch.Size([100, 5])\n"
     ]
    },
    {
     "name": "stderr",
     "output_type": "stream",
     "text": [
      "\r",
      " 88%|████████▊ | 43/49 [00:02<00:00, 20.14it/s]"
     ]
    },
    {
     "name": "stdout",
     "output_type": "stream",
     "text": [
      "torch.Size([100, 5])\n",
      "torch.Size([100, 5])\n",
      "torch.Size([100, 5])\n",
      "torch.Size([100, 5])\n",
      "torch.Size([100, 5])\n",
      "torch.Size([100, 5])\n"
     ]
    },
    {
     "name": "stderr",
     "output_type": "stream",
     "text": [
      "\r",
      " 94%|█████████▍| 46/49 [00:02<00:00, 19.89it/s]"
     ]
    },
    {
     "name": "stdout",
     "output_type": "stream",
     "text": [
      "torch.Size([100, 5])\n",
      "torch.Size([100, 5])\n"
     ]
    },
    {
     "name": "stderr",
     "output_type": "stream",
     "text": [
      "100%|██████████| 49/49 [00:02<00:00, 19.81it/s]\n"
     ]
    },
    {
     "name": "stdout",
     "output_type": "stream",
     "text": [
      "torch.Size([100, 5])\n",
      "torch.Size([100, 5])\n",
      "torch.Size([83, 5])\n",
      "torch.Size([83, 5])\n",
      "Epoch: 6. Loss: 1.247765302658081\n"
     ]
    },
    {
     "name": "stderr",
     "output_type": "stream",
     "text": [
      "\r",
      "  0%|          | 0/49 [00:00<?, ?it/s]"
     ]
    },
    {
     "name": "stdout",
     "output_type": "stream",
     "text": [
      "torch.Size([100, 5])\n",
      "torch.Size([100, 5])\n"
     ]
    },
    {
     "name": "stderr",
     "output_type": "stream",
     "text": [
      "\r",
      "  4%|▍         | 2/49 [00:00<00:02, 18.77it/s]"
     ]
    },
    {
     "name": "stdout",
     "output_type": "stream",
     "text": [
      "torch.Size([100, 5])\n",
      "torch.Size([100, 5])\n"
     ]
    },
    {
     "name": "stderr",
     "output_type": "stream",
     "text": [
      "\r",
      "  8%|▊         | 4/49 [00:00<00:02, 19.44it/s]"
     ]
    },
    {
     "name": "stdout",
     "output_type": "stream",
     "text": [
      "torch.Size([100, 5])\n",
      "torch.Size([100, 5])\n",
      "torch.Size([100, 5])\n",
      "torch.Size([100, 5])\n",
      "torch.Size([100, 5])\n",
      "torch.Size([100, 5])\n",
      "torch.Size([100, 5])\n",
      "torch.Size([100, 5])\n"
     ]
    },
    {
     "name": "stderr",
     "output_type": "stream",
     "text": [
      " 16%|█▋        | 8/49 [00:00<00:02, 19.65it/s]"
     ]
    },
    {
     "name": "stdout",
     "output_type": "stream",
     "text": [
      "torch.Size([100, 5])\n",
      "torch.Size([100, 5])\n",
      "torch.Size([100, 5])\n",
      "torch.Size([100, 5])\n"
     ]
    },
    {
     "name": "stderr",
     "output_type": "stream",
     "text": [
      "\r",
      " 20%|██        | 10/49 [00:00<00:01, 19.60it/s]"
     ]
    },
    {
     "name": "stdout",
     "output_type": "stream",
     "text": [
      "torch.Size([100, 5])\n",
      "torch.Size([100, 5])\n",
      "torch.Size([100, 5])\n",
      "torch.Size([100, 5])\n"
     ]
    },
    {
     "name": "stderr",
     "output_type": "stream",
     "text": [
      "\r",
      " 24%|██▍       | 12/49 [00:00<00:01, 19.65it/s]"
     ]
    },
    {
     "name": "stdout",
     "output_type": "stream",
     "text": [
      "torch.Size([100, 5])\n",
      "torch.Size([100, 5])\n",
      "torch.Size([100, 5])\n",
      "torch.Size([100, 5])\n"
     ]
    },
    {
     "name": "stderr",
     "output_type": "stream",
     "text": [
      "\r",
      " 29%|██▊       | 14/49 [00:00<00:01, 19.50it/s]"
     ]
    },
    {
     "name": "stdout",
     "output_type": "stream",
     "text": [
      "torch.Size([100, 5])\n",
      "torch.Size([100, 5])\n",
      "torch.Size([100, 5])\n",
      "torch.Size([100, 5])\n"
     ]
    },
    {
     "name": "stderr",
     "output_type": "stream",
     "text": [
      "\r",
      " 33%|███▎      | 16/49 [00:00<00:01, 19.37it/s]"
     ]
    },
    {
     "name": "stdout",
     "output_type": "stream",
     "text": [
      "torch.Size([100, 5])\n",
      "torch.Size([100, 5])\n",
      "torch.Size([100, 5])\n",
      "torch.Size([100, 5])\n"
     ]
    },
    {
     "name": "stderr",
     "output_type": "stream",
     "text": [
      "\r",
      " 37%|███▋      | 18/49 [00:00<00:01, 19.47it/s]"
     ]
    },
    {
     "name": "stdout",
     "output_type": "stream",
     "text": [
      "torch.Size([100, 5])\n",
      "torch.Size([100, 5])\n",
      "torch.Size([100, 5])\n",
      "torch.Size([100, 5])\n"
     ]
    },
    {
     "name": "stderr",
     "output_type": "stream",
     "text": [
      "\r",
      " 41%|████      | 20/49 [00:01<00:01, 19.56it/s]"
     ]
    },
    {
     "name": "stdout",
     "output_type": "stream",
     "text": [
      "torch.Size([100, 5])\n",
      "torch.Size([100, 5])\n",
      "torch.Size([100, 5])\n",
      "torch.Size([100, 5])\n"
     ]
    },
    {
     "name": "stderr",
     "output_type": "stream",
     "text": [
      "\r",
      " 45%|████▍     | 22/49 [00:01<00:01, 19.61it/s]"
     ]
    },
    {
     "name": "stdout",
     "output_type": "stream",
     "text": [
      "torch.Size([100, 5])\n",
      "torch.Size([100, 5])\n",
      "torch.Size([100, 5])\n",
      "torch.Size([100, 5])\n"
     ]
    },
    {
     "name": "stderr",
     "output_type": "stream",
     "text": [
      "\r",
      " 49%|████▉     | 24/49 [00:01<00:01, 19.56it/s]"
     ]
    },
    {
     "name": "stdout",
     "output_type": "stream",
     "text": [
      "torch.Size([100, 5])\n",
      "torch.Size([100, 5])\n",
      "torch.Size([100, 5])\n",
      "torch.Size([100, 5])\n"
     ]
    },
    {
     "name": "stderr",
     "output_type": "stream",
     "text": [
      "\r",
      " 53%|█████▎    | 26/49 [00:01<00:01, 19.65it/s]"
     ]
    },
    {
     "name": "stdout",
     "output_type": "stream",
     "text": [
      "torch.Size([100, 5])\n",
      "torch.Size([100, 5])\n",
      "torch.Size([100, 5])\n",
      "torch.Size([100, 5])\n"
     ]
    },
    {
     "name": "stderr",
     "output_type": "stream",
     "text": [
      "\r",
      " 57%|█████▋    | 28/49 [00:01<00:01, 19.69it/s]"
     ]
    },
    {
     "name": "stdout",
     "output_type": "stream",
     "text": [
      "torch.Size([100, 5])\n",
      "torch.Size([100, 5])\n",
      "torch.Size([100, 5])\n",
      "torch.Size([100, 5])\n",
      "torch.Size([100, 5])\n",
      "torch.Size([100, 5])\n"
     ]
    },
    {
     "name": "stderr",
     "output_type": "stream",
     "text": [
      "\r",
      " 61%|██████    | 30/49 [00:01<00:00, 19.71it/s]"
     ]
    },
    {
     "name": "stdout",
     "output_type": "stream",
     "text": [
      "torch.Size([100, 5])\n",
      "torch.Size([100, 5])\n"
     ]
    },
    {
     "name": "stderr",
     "output_type": "stream",
     "text": [
      "\r",
      " 65%|██████▌   | 32/49 [00:01<00:00, 19.73it/s]"
     ]
    },
    {
     "name": "stdout",
     "output_type": "stream",
     "text": [
      "torch.Size([100, 5])\n",
      "torch.Size([100, 5])\n",
      "torch.Size([100, 5])\n",
      "torch.Size([100, 5])\n",
      "torch.Size([100, 5])\n",
      "torch.Size([100, 5])\n"
     ]
    },
    {
     "name": "stderr",
     "output_type": "stream",
     "text": [
      "\r",
      " 69%|██████▉   | 34/49 [00:01<00:00, 19.60it/s]"
     ]
    },
    {
     "name": "stdout",
     "output_type": "stream",
     "text": [
      "torch.Size([100, 5])\n",
      "torch.Size([100, 5])\n"
     ]
    },
    {
     "name": "stderr",
     "output_type": "stream",
     "text": [
      "\r",
      " 73%|███████▎  | 36/49 [00:01<00:00, 19.63it/s]"
     ]
    },
    {
     "name": "stdout",
     "output_type": "stream",
     "text": [
      "torch.Size([100, 5])\n",
      "torch.Size([100, 5])\n",
      "torch.Size([100, 5])\n",
      "torch.Size([100, 5])\n",
      "torch.Size([100, 5])\n",
      "torch.Size([100, 5])\n"
     ]
    },
    {
     "name": "stderr",
     "output_type": "stream",
     "text": [
      "\r",
      " 78%|███████▊  | 38/49 [00:01<00:00, 19.69it/s]"
     ]
    },
    {
     "name": "stdout",
     "output_type": "stream",
     "text": [
      "torch.Size([100, 5])\n",
      "torch.Size([100, 5])\n"
     ]
    },
    {
     "name": "stderr",
     "output_type": "stream",
     "text": [
      "\r",
      " 82%|████████▏ | 40/49 [00:02<00:00, 19.58it/s]"
     ]
    },
    {
     "name": "stdout",
     "output_type": "stream",
     "text": [
      "torch.Size([100, 5])\n",
      "torch.Size([100, 5])\n",
      "torch.Size([100, 5])\n",
      "torch.Size([100, 5])\n",
      "torch.Size([100, 5])\n",
      "torch.Size([100, 5])\n"
     ]
    },
    {
     "name": "stderr",
     "output_type": "stream",
     "text": [
      "\r",
      " 86%|████████▌ | 42/49 [00:02<00:00, 19.31it/s]"
     ]
    },
    {
     "name": "stdout",
     "output_type": "stream",
     "text": [
      "torch.Size([100, 5])\n",
      "torch.Size([100, 5])\n"
     ]
    },
    {
     "name": "stderr",
     "output_type": "stream",
     "text": [
      "\r",
      " 90%|████████▉ | 44/49 [00:02<00:00, 19.43it/s]"
     ]
    },
    {
     "name": "stdout",
     "output_type": "stream",
     "text": [
      "torch.Size([100, 5])\n",
      "torch.Size([100, 5])\n",
      "torch.Size([100, 5])\n",
      "torch.Size([100, 5])\n",
      "torch.Size([100, 5])\n",
      "torch.Size([100, 5])\n"
     ]
    },
    {
     "name": "stderr",
     "output_type": "stream",
     "text": [
      "\r",
      " 94%|█████████▍| 46/49 [00:02<00:00, 19.56it/s]"
     ]
    },
    {
     "name": "stdout",
     "output_type": "stream",
     "text": [
      "torch.Size([100, 5])\n",
      "torch.Size([100, 5])\n"
     ]
    },
    {
     "name": "stderr",
     "output_type": "stream",
     "text": [
      "100%|██████████| 49/49 [00:02<00:00, 19.60it/s]\n"
     ]
    },
    {
     "name": "stdout",
     "output_type": "stream",
     "text": [
      "torch.Size([100, 5])\n",
      "torch.Size([100, 5])\n",
      "torch.Size([100, 5])\n",
      "torch.Size([100, 5])\n",
      "torch.Size([83, 5])\n",
      "torch.Size([83, 5])\n",
      "Epoch: 7. Loss: 1.2186309099197388\n"
     ]
    },
    {
     "name": "stderr",
     "output_type": "stream",
     "text": [
      "\r",
      "  0%|          | 0/49 [00:00<?, ?it/s]"
     ]
    },
    {
     "name": "stdout",
     "output_type": "stream",
     "text": [
      "torch.Size([100, 5])\n",
      "torch.Size([100, 5])\n"
     ]
    },
    {
     "name": "stderr",
     "output_type": "stream",
     "text": [
      "  8%|▊         | 4/49 [00:00<00:02, 19.43it/s]"
     ]
    },
    {
     "name": "stdout",
     "output_type": "stream",
     "text": [
      "torch.Size([100, 5])\n",
      "torch.Size([100, 5])\n",
      "torch.Size([100, 5])\n",
      "torch.Size([100, 5])\n",
      "torch.Size([100, 5])\n",
      "torch.Size([100, 5])\n",
      "torch.Size([100, 5])\n",
      "torch.Size([100, 5])\n",
      "torch.Size([100, 5])\n",
      "torch.Size([100, 5])\n"
     ]
    },
    {
     "name": "stderr",
     "output_type": "stream",
     "text": [
      " 16%|█▋        | 8/49 [00:00<00:02, 19.60it/s]"
     ]
    },
    {
     "name": "stdout",
     "output_type": "stream",
     "text": [
      "torch.Size([100, 5])\n",
      "torch.Size([100, 5])\n",
      "torch.Size([100, 5])\n",
      "torch.Size([100, 5])\n"
     ]
    },
    {
     "name": "stderr",
     "output_type": "stream",
     "text": [
      "\r",
      " 20%|██        | 10/49 [00:00<00:01, 19.65it/s]"
     ]
    },
    {
     "name": "stdout",
     "output_type": "stream",
     "text": [
      "torch.Size([100, 5])\n",
      "torch.Size([100, 5])\n",
      "torch.Size([100, 5])\n",
      "torch.Size([100, 5])\n"
     ]
    },
    {
     "name": "stderr",
     "output_type": "stream",
     "text": [
      "\r",
      " 24%|██▍       | 12/49 [00:00<00:01, 19.66it/s]"
     ]
    },
    {
     "name": "stdout",
     "output_type": "stream",
     "text": [
      "torch.Size([100, 5])\n",
      "torch.Size([100, 5])\n",
      "torch.Size([100, 5])\n",
      "torch.Size([100, 5])\n"
     ]
    },
    {
     "name": "stderr",
     "output_type": "stream",
     "text": [
      "\r",
      " 29%|██▊       | 14/49 [00:00<00:01, 19.62it/s]"
     ]
    },
    {
     "name": "stdout",
     "output_type": "stream",
     "text": [
      "torch.Size([100, 5])\n",
      "torch.Size([100, 5])\n",
      "torch.Size([100, 5])\n",
      "torch.Size([100, 5])\n"
     ]
    },
    {
     "name": "stderr",
     "output_type": "stream",
     "text": [
      "\r",
      " 33%|███▎      | 16/49 [00:00<00:01, 19.68it/s]"
     ]
    },
    {
     "name": "stdout",
     "output_type": "stream",
     "text": [
      "torch.Size([100, 5])\n",
      "torch.Size([100, 5])\n",
      "torch.Size([100, 5])\n",
      "torch.Size([100, 5])\n"
     ]
    },
    {
     "name": "stderr",
     "output_type": "stream",
     "text": [
      "\r",
      " 37%|███▋      | 18/49 [00:00<00:01, 19.69it/s]"
     ]
    },
    {
     "name": "stdout",
     "output_type": "stream",
     "text": [
      "torch.Size([100, 5])\n",
      "torch.Size([100, 5])\n",
      "torch.Size([100, 5])\n",
      "torch.Size([100, 5])\n"
     ]
    },
    {
     "name": "stderr",
     "output_type": "stream",
     "text": [
      "\r",
      " 41%|████      | 20/49 [00:01<00:01, 19.77it/s]"
     ]
    },
    {
     "name": "stdout",
     "output_type": "stream",
     "text": [
      "torch.Size([100, 5])\n",
      "torch.Size([100, 5])\n",
      "torch.Size([100, 5])\n",
      "torch.Size([100, 5])\n"
     ]
    },
    {
     "name": "stderr",
     "output_type": "stream",
     "text": [
      "\r",
      " 45%|████▍     | 22/49 [00:01<00:01, 19.80it/s]"
     ]
    },
    {
     "name": "stdout",
     "output_type": "stream",
     "text": [
      "torch.Size([100, 5])\n",
      "torch.Size([100, 5])\n",
      "torch.Size([100, 5])\n",
      "torch.Size([100, 5])\n",
      "torch.Size([100, 5])\n",
      "torch.Size([100, 5])\n"
     ]
    },
    {
     "name": "stderr",
     "output_type": "stream",
     "text": [
      "\r",
      " 49%|████▉     | 24/49 [00:01<00:01, 19.79it/s]"
     ]
    },
    {
     "name": "stdout",
     "output_type": "stream",
     "text": [
      "torch.Size([100, 5])\n",
      "torch.Size([100, 5])\n"
     ]
    },
    {
     "name": "stderr",
     "output_type": "stream",
     "text": [
      "\r",
      " 55%|█████▌    | 27/49 [00:01<00:01, 19.93it/s]"
     ]
    },
    {
     "name": "stdout",
     "output_type": "stream",
     "text": [
      "torch.Size([100, 5])\n",
      "torch.Size([100, 5])\n",
      "torch.Size([100, 5])\n",
      "torch.Size([100, 5])\n",
      "torch.Size([100, 5])\n",
      "torch.Size([100, 5])\n",
      "torch.Size([100, 5])\n",
      "torch.Size([100, 5])\n",
      "torch.Size([100, 5])\n",
      "torch.Size([100, 5])\n"
     ]
    },
    {
     "name": "stderr",
     "output_type": "stream",
     "text": [
      " 63%|██████▎   | 31/49 [00:01<00:00, 19.92it/s]"
     ]
    },
    {
     "name": "stdout",
     "output_type": "stream",
     "text": [
      "torch.Size([100, 5])\n",
      "torch.Size([100, 5])\n",
      "torch.Size([100, 5])\n",
      "torch.Size([100, 5])\n",
      "torch.Size([100, 5])\n",
      "torch.Size([100, 5])\n"
     ]
    },
    {
     "name": "stderr",
     "output_type": "stream",
     "text": [
      "\r",
      " 67%|██████▋   | 33/49 [00:01<00:00, 19.79it/s]"
     ]
    },
    {
     "name": "stdout",
     "output_type": "stream",
     "text": [
      "torch.Size([100, 5])\n",
      "torch.Size([100, 5])\n"
     ]
    },
    {
     "name": "stderr",
     "output_type": "stream",
     "text": [
      "\r",
      " 71%|███████▏  | 35/49 [00:01<00:00, 19.62it/s]"
     ]
    },
    {
     "name": "stdout",
     "output_type": "stream",
     "text": [
      "torch.Size([100, 5])\n",
      "torch.Size([100, 5])\n",
      "torch.Size([100, 5])\n",
      "torch.Size([100, 5])\n",
      "torch.Size([100, 5])\n",
      "torch.Size([100, 5])\n",
      "torch.Size([100, 5])\n",
      "torch.Size([100, 5])\n"
     ]
    },
    {
     "name": "stderr",
     "output_type": "stream",
     "text": [
      " 82%|████████▏ | 40/49 [00:02<00:00, 19.84it/s]"
     ]
    },
    {
     "name": "stdout",
     "output_type": "stream",
     "text": [
      "torch.Size([100, 5])\n",
      "torch.Size([100, 5])\n",
      "torch.Size([100, 5])\n",
      "torch.Size([100, 5])\n",
      "torch.Size([100, 5])\n",
      "torch.Size([100, 5])\n",
      "torch.Size([100, 5])\n",
      "torch.Size([100, 5])\n"
     ]
    },
    {
     "name": "stderr",
     "output_type": "stream",
     "text": [
      "\r",
      " 86%|████████▌ | 42/49 [00:02<00:00, 19.80it/s]"
     ]
    },
    {
     "name": "stdout",
     "output_type": "stream",
     "text": [
      "torch.Size([100, 5])\n",
      "torch.Size([100, 5])\n"
     ]
    },
    {
     "name": "stderr",
     "output_type": "stream",
     "text": [
      "\r",
      " 90%|████████▉ | 44/49 [00:02<00:00, 19.84it/s]"
     ]
    },
    {
     "name": "stdout",
     "output_type": "stream",
     "text": [
      "torch.Size([100, 5])\n",
      "torch.Size([100, 5])\n",
      "torch.Size([100, 5])\n",
      "torch.Size([100, 5])\n",
      "torch.Size([100, 5])\n",
      "torch.Size([100, 5])\n"
     ]
    },
    {
     "name": "stderr",
     "output_type": "stream",
     "text": [
      "\r",
      " 94%|█████████▍| 46/49 [00:02<00:00, 19.87it/s]"
     ]
    },
    {
     "name": "stdout",
     "output_type": "stream",
     "text": [
      "torch.Size([100, 5])\n",
      "torch.Size([100, 5])\n"
     ]
    },
    {
     "name": "stderr",
     "output_type": "stream",
     "text": [
      "100%|██████████| 49/49 [00:02<00:00, 19.78it/s]\n"
     ]
    },
    {
     "name": "stdout",
     "output_type": "stream",
     "text": [
      "torch.Size([100, 5])\n",
      "torch.Size([100, 5])\n",
      "torch.Size([100, 5])\n",
      "torch.Size([100, 5])\n",
      "torch.Size([83, 5])\n",
      "torch.Size([83, 5])\n",
      "Epoch: 8. Loss: 1.1860767602920532\n"
     ]
    },
    {
     "name": "stderr",
     "output_type": "stream",
     "text": [
      "\r",
      "  0%|          | 0/49 [00:00<?, ?it/s]"
     ]
    },
    {
     "name": "stdout",
     "output_type": "stream",
     "text": [
      "torch.Size([100, 5])\n",
      "torch.Size([100, 5])\n"
     ]
    },
    {
     "name": "stderr",
     "output_type": "stream",
     "text": [
      "  8%|▊         | 4/49 [00:00<00:02, 18.79it/s]"
     ]
    },
    {
     "name": "stdout",
     "output_type": "stream",
     "text": [
      "torch.Size([100, 5])\n",
      "torch.Size([100, 5])\n",
      "torch.Size([100, 5])\n",
      "torch.Size([100, 5])\n",
      "torch.Size([100, 5])\n",
      "torch.Size([100, 5])\n",
      "torch.Size([100, 5])\n",
      "torch.Size([100, 5])\n"
     ]
    },
    {
     "name": "stderr",
     "output_type": "stream",
     "text": [
      " 16%|█▋        | 8/49 [00:00<00:02, 19.15it/s]"
     ]
    },
    {
     "name": "stdout",
     "output_type": "stream",
     "text": [
      "torch.Size([100, 5])\n",
      "torch.Size([100, 5])\n",
      "torch.Size([100, 5])\n",
      "torch.Size([100, 5])\n",
      "torch.Size([100, 5])\n",
      "torch.Size([100, 5])\n",
      "torch.Size([100, 5])\n",
      "torch.Size([100, 5])\n"
     ]
    },
    {
     "name": "stderr",
     "output_type": "stream",
     "text": [
      "\r",
      " 22%|██▏       | 11/49 [00:00<00:01, 19.58it/s]"
     ]
    },
    {
     "name": "stdout",
     "output_type": "stream",
     "text": [
      "torch.Size([100, 5])\n",
      "torch.Size([100, 5])\n",
      "torch.Size([100, 5])\n",
      "torch.Size([100, 5])\n",
      "torch.Size([100, 5])\n",
      "torch.Size([100, 5])\n",
      "torch.Size([100, 5])\n",
      "torch.Size([100, 5])\n"
     ]
    },
    {
     "name": "stderr",
     "output_type": "stream",
     "text": [
      " 33%|███▎      | 16/49 [00:00<00:01, 19.93it/s]"
     ]
    },
    {
     "name": "stdout",
     "output_type": "stream",
     "text": [
      "torch.Size([100, 5])\n",
      "torch.Size([100, 5])\n",
      "torch.Size([100, 5])\n",
      "torch.Size([100, 5])\n",
      "torch.Size([100, 5])\n",
      "torch.Size([100, 5])\n",
      "torch.Size([100, 5])\n",
      "torch.Size([100, 5])\n",
      "torch.Size([100, 5])\n",
      "torch.Size([100, 5])\n"
     ]
    },
    {
     "name": "stderr",
     "output_type": "stream",
     "text": [
      " 43%|████▎     | 21/49 [00:01<00:01, 19.86it/s]"
     ]
    },
    {
     "name": "stdout",
     "output_type": "stream",
     "text": [
      "torch.Size([100, 5])\n",
      "torch.Size([100, 5])\n",
      "torch.Size([100, 5])\n",
      "torch.Size([100, 5])\n",
      "torch.Size([100, 5])\n",
      "torch.Size([100, 5])\n",
      "torch.Size([100, 5])\n",
      "torch.Size([100, 5])\n",
      "torch.Size([100, 5])\n",
      "torch.Size([100, 5])\n"
     ]
    },
    {
     "name": "stderr",
     "output_type": "stream",
     "text": [
      " 53%|█████▎    | 26/49 [00:01<00:01, 19.95it/s]"
     ]
    },
    {
     "name": "stdout",
     "output_type": "stream",
     "text": [
      "torch.Size([100, 5])\n",
      "torch.Size([100, 5])\n",
      "torch.Size([100, 5])\n",
      "torch.Size([100, 5])\n",
      "torch.Size([100, 5])\n",
      "torch.Size([100, 5])\n",
      "torch.Size([100, 5])\n",
      "torch.Size([100, 5])\n",
      "torch.Size([100, 5])\n",
      "torch.Size([100, 5])\n"
     ]
    },
    {
     "name": "stderr",
     "output_type": "stream",
     "text": [
      " 63%|██████▎   | 31/49 [00:01<00:00, 20.01it/s]"
     ]
    },
    {
     "name": "stdout",
     "output_type": "stream",
     "text": [
      "torch.Size([100, 5])\n",
      "torch.Size([100, 5])\n",
      "torch.Size([100, 5])\n",
      "torch.Size([100, 5])\n",
      "torch.Size([100, 5])\n",
      "torch.Size([100, 5])\n",
      "torch.Size([100, 5])\n",
      "torch.Size([100, 5])\n",
      "torch.Size([100, 5])\n",
      "torch.Size([100, 5])\n"
     ]
    },
    {
     "name": "stderr",
     "output_type": "stream",
     "text": [
      " 73%|███████▎  | 36/49 [00:01<00:00, 19.99it/s]"
     ]
    },
    {
     "name": "stdout",
     "output_type": "stream",
     "text": [
      "torch.Size([100, 5])\n",
      "torch.Size([100, 5])\n",
      "torch.Size([100, 5])\n",
      "torch.Size([100, 5])\n",
      "torch.Size([100, 5])\n",
      "torch.Size([100, 5])\n",
      "torch.Size([100, 5])\n",
      "torch.Size([100, 5])\n"
     ]
    },
    {
     "name": "stderr",
     "output_type": "stream",
     "text": [
      " 86%|████████▌ | 42/49 [00:02<00:00, 19.82it/s]"
     ]
    },
    {
     "name": "stdout",
     "output_type": "stream",
     "text": [
      "torch.Size([100, 5])\n",
      "torch.Size([100, 5])\n",
      "torch.Size([100, 5])\n",
      "torch.Size([100, 5])\n",
      "torch.Size([100, 5])\n",
      "torch.Size([100, 5])\n",
      "torch.Size([100, 5])\n",
      "torch.Size([100, 5])\n",
      "torch.Size([100, 5])\n",
      "torch.Size([100, 5])\n"
     ]
    },
    {
     "name": "stderr",
     "output_type": "stream",
     "text": [
      " 94%|█████████▍| 46/49 [00:02<00:00, 19.74it/s]"
     ]
    },
    {
     "name": "stdout",
     "output_type": "stream",
     "text": [
      "torch.Size([100, 5])\n",
      "torch.Size([100, 5])\n",
      "torch.Size([100, 5])\n",
      "torch.Size([100, 5])\n",
      "torch.Size([100, 5])\n",
      "torch.Size([100, 5])\n",
      "torch.Size([100, 5])\n",
      "torch.Size([100, 5])\n"
     ]
    },
    {
     "name": "stderr",
     "output_type": "stream",
     "text": [
      "100%|██████████| 49/49 [00:02<00:00, 19.81it/s]\n"
     ]
    },
    {
     "name": "stdout",
     "output_type": "stream",
     "text": [
      "torch.Size([100, 5])\n",
      "torch.Size([100, 5])\n",
      "torch.Size([100, 5])\n",
      "torch.Size([100, 5])\n",
      "torch.Size([83, 5])\n",
      "torch.Size([83, 5])\n",
      "Epoch: 9. Loss: 1.1620291471481323\n"
     ]
    },
    {
     "name": "stderr",
     "output_type": "stream",
     "text": [
      "\r",
      "  0%|          | 0/49 [00:00<?, ?it/s]"
     ]
    },
    {
     "name": "stdout",
     "output_type": "stream",
     "text": [
      "torch.Size([100, 5])\n",
      "torch.Size([100, 5])\n",
      "torch.Size([100, 5])\n",
      "torch.Size([100, 5])\n"
     ]
    },
    {
     "name": "stderr",
     "output_type": "stream",
     "text": [
      "  8%|▊         | 4/49 [00:00<00:02, 19.60it/s]"
     ]
    },
    {
     "name": "stdout",
     "output_type": "stream",
     "text": [
      "torch.Size([100, 5])\n",
      "torch.Size([100, 5])\n",
      "torch.Size([100, 5])\n",
      "torch.Size([100, 5])\n"
     ]
    },
    {
     "name": "stderr",
     "output_type": "stream",
     "text": [
      "\r",
      " 12%|█▏        | 6/49 [00:00<00:02, 19.76it/s]"
     ]
    },
    {
     "name": "stdout",
     "output_type": "stream",
     "text": [
      "torch.Size([100, 5])\n",
      "torch.Size([100, 5])\n",
      "torch.Size([100, 5])\n",
      "torch.Size([100, 5])\n",
      "torch.Size([100, 5])\n",
      "torch.Size([100, 5])\n"
     ]
    },
    {
     "name": "stderr",
     "output_type": "stream",
     "text": [
      "\r",
      " 16%|█▋        | 8/49 [00:00<00:02, 19.70it/s]"
     ]
    },
    {
     "name": "stdout",
     "output_type": "stream",
     "text": [
      "torch.Size([100, 5])\n",
      "torch.Size([100, 5])\n"
     ]
    },
    {
     "name": "stderr",
     "output_type": "stream",
     "text": [
      "\r",
      " 20%|██        | 10/49 [00:00<00:01, 19.71it/s]"
     ]
    },
    {
     "name": "stdout",
     "output_type": "stream",
     "text": [
      "torch.Size([100, 5])\n",
      "torch.Size([100, 5])\n",
      "torch.Size([100, 5])\n",
      "torch.Size([100, 5])\n",
      "torch.Size([100, 5])\n",
      "torch.Size([100, 5])\n"
     ]
    },
    {
     "name": "stderr",
     "output_type": "stream",
     "text": [
      "\r",
      " 24%|██▍       | 12/49 [00:00<00:01, 19.47it/s]"
     ]
    },
    {
     "name": "stdout",
     "output_type": "stream",
     "text": [
      "torch.Size([100, 5])\n",
      "torch.Size([100, 5])\n"
     ]
    },
    {
     "name": "stderr",
     "output_type": "stream",
     "text": [
      "\r",
      " 29%|██▊       | 14/49 [00:00<00:01, 19.41it/s]"
     ]
    },
    {
     "name": "stdout",
     "output_type": "stream",
     "text": [
      "torch.Size([100, 5])\n",
      "torch.Size([100, 5])\n",
      "torch.Size([100, 5])\n",
      "torch.Size([100, 5])\n",
      "torch.Size([100, 5])\n",
      "torch.Size([100, 5])\n"
     ]
    },
    {
     "name": "stderr",
     "output_type": "stream",
     "text": [
      "\r",
      " 33%|███▎      | 16/49 [00:00<00:01, 19.37it/s]"
     ]
    },
    {
     "name": "stdout",
     "output_type": "stream",
     "text": [
      "torch.Size([100, 5])\n",
      "torch.Size([100, 5])\n"
     ]
    },
    {
     "name": "stderr",
     "output_type": "stream",
     "text": [
      "\r",
      " 37%|███▋      | 18/49 [00:00<00:01, 19.56it/s]"
     ]
    },
    {
     "name": "stdout",
     "output_type": "stream",
     "text": [
      "torch.Size([100, 5])\n",
      "torch.Size([100, 5])\n",
      "torch.Size([100, 5])\n",
      "torch.Size([100, 5])\n",
      "torch.Size([100, 5])\n",
      "torch.Size([100, 5])\n"
     ]
    },
    {
     "name": "stderr",
     "output_type": "stream",
     "text": [
      "\r",
      " 41%|████      | 20/49 [00:01<00:01, 19.55it/s]"
     ]
    },
    {
     "name": "stdout",
     "output_type": "stream",
     "text": [
      "torch.Size([100, 5])\n",
      "torch.Size([100, 5])\n"
     ]
    },
    {
     "name": "stderr",
     "output_type": "stream",
     "text": [
      "\r",
      " 45%|████▍     | 22/49 [00:01<00:01, 19.62it/s]"
     ]
    },
    {
     "name": "stdout",
     "output_type": "stream",
     "text": [
      "torch.Size([100, 5])\n",
      "torch.Size([100, 5])\n",
      "torch.Size([100, 5])\n",
      "torch.Size([100, 5])\n",
      "torch.Size([100, 5])\n",
      "torch.Size([100, 5])\n",
      "torch.Size([100, 5])\n",
      "torch.Size([100, 5])\n",
      "torch.Size([100, 5])\n",
      "torch.Size([100, 5])\n"
     ]
    },
    {
     "name": "stderr",
     "output_type": "stream",
     "text": [
      " 57%|█████▋    | 28/49 [00:01<00:01, 19.94it/s]"
     ]
    },
    {
     "name": "stdout",
     "output_type": "stream",
     "text": [
      "torch.Size([100, 5])\n",
      "torch.Size([100, 5])\n",
      "torch.Size([100, 5])\n",
      "torch.Size([100, 5])\n",
      "torch.Size([100, 5])\n",
      "torch.Size([100, 5])\n",
      "torch.Size([100, 5])\n",
      "torch.Size([100, 5])\n"
     ]
    },
    {
     "name": "stderr",
     "output_type": "stream",
     "text": [
      " 65%|██████▌   | 32/49 [00:01<00:00, 19.81it/s]"
     ]
    },
    {
     "name": "stdout",
     "output_type": "stream",
     "text": [
      "torch.Size([100, 5])\n",
      "torch.Size([100, 5])\n",
      "torch.Size([100, 5])\n",
      "torch.Size([100, 5])\n",
      "torch.Size([100, 5])\n",
      "torch.Size([100, 5])\n",
      "torch.Size([100, 5])\n",
      "torch.Size([100, 5])\n"
     ]
    },
    {
     "name": "stderr",
     "output_type": "stream",
     "text": [
      " 76%|███████▌  | 37/49 [00:01<00:00, 20.02it/s]"
     ]
    },
    {
     "name": "stdout",
     "output_type": "stream",
     "text": [
      "torch.Size([100, 5])\n",
      "torch.Size([100, 5])\n",
      "torch.Size([100, 5])\n",
      "torch.Size([100, 5])\n",
      "torch.Size([100, 5])\n",
      "torch.Size([100, 5])\n",
      "torch.Size([100, 5])\n",
      "torch.Size([100, 5])\n",
      "torch.Size([100, 5])\n",
      "torch.Size([100, 5])\n",
      "torch.Size([100, 5])\n",
      "torch.Size([100, 5])\n"
     ]
    },
    {
     "name": "stderr",
     "output_type": "stream",
     "text": [
      " 88%|████████▊ | 43/49 [00:02<00:00, 20.14it/s]"
     ]
    },
    {
     "name": "stdout",
     "output_type": "stream",
     "text": [
      "torch.Size([100, 5])\n",
      "torch.Size([100, 5])\n",
      "torch.Size([100, 5])\n",
      "torch.Size([100, 5])\n",
      "torch.Size([100, 5])\n",
      "torch.Size([100, 5])\n",
      "torch.Size([100, 5])\n",
      "torch.Size([100, 5])\n",
      "torch.Size([100, 5])\n",
      "torch.Size([100, 5])\n"
     ]
    },
    {
     "name": "stderr",
     "output_type": "stream",
     "text": [
      "\r",
      " 94%|█████████▍| 46/49 [00:02<00:00, 20.19it/s]"
     ]
    },
    {
     "name": "stdout",
     "output_type": "stream",
     "text": [
      "torch.Size([100, 5])\n",
      "torch.Size([100, 5])\n",
      "torch.Size([100, 5])\n",
      "torch.Size([100, 5])\n",
      "torch.Size([100, 5])\n",
      "torch.Size([100, 5])\n",
      "torch.Size([100, 5])\n",
      "torch.Size([100, 5])\n",
      "torch.Size([83, 5])\n",
      "torch.Size([83, 5])\n"
     ]
    },
    {
     "name": "stderr",
     "output_type": "stream",
     "text": [
      "100%|██████████| 49/49 [00:02<00:00, 19.94it/s]"
     ]
    },
    {
     "name": "stdout",
     "output_type": "stream",
     "text": [
      "Epoch: 10. Loss: 1.1371674537658691\n"
     ]
    },
    {
     "name": "stderr",
     "output_type": "stream",
     "text": [
      "\n"
     ]
    }
   ],
   "source": [
    "BATCH_SIZE = 100\n",
    "EPOCHS = 10\n",
    "\n",
    "# Training time\n",
    "for epoch in range(EPOCHS):\n",
    "    for i in tqdm(range(0, len(train_x), BATCH_SIZE)):\n",
    "        batch_x = train_x[i: i+BATCH_SIZE].view(-1, 1, 50, 50)\n",
    "        batch_y = train_y[i: i+BATCH_SIZE]\n",
    "        \n",
    "        model.zero_grad()\n",
    "        \n",
    "#         print(batch_x.shape)\n",
    "        outputs = model(batch_x)\n",
    "#         print(outputs.shape)\n",
    "#         print(batch_y.shape)\n",
    "        loss = loss_fn(outputs, torch.max(batch_y, 1)[1])\n",
    "        loss.backward()\n",
    "        optimizer.step()\n",
    "    \n",
    "    print(f\"Epoch: {epoch+1}. Loss: {loss}\")"
   ]
  },
  {
   "cell_type": "code",
   "execution_count": 36,
   "id": "grand-balance",
   "metadata": {},
   "outputs": [
    {
     "name": "stderr",
     "output_type": "stream",
     "text": [
      "100%|██████████| 542/542 [00:00<00:00, 1558.51it/s]"
     ]
    },
    {
     "name": "stdout",
     "output_type": "stream",
     "text": [
      "Accuracy:  53.1\n"
     ]
    },
    {
     "name": "stderr",
     "output_type": "stream",
     "text": [
      "\n"
     ]
    }
   ],
   "source": [
    "correct = 0\n",
    "total = 0\n",
    "with torch.no_grad():\n",
    "    for i in tqdm(range(len(test_x))):\n",
    "        real_class = torch.argmax(test_y[i])\n",
    "        net_out = model(test_x[i].view(-1, 1, 50, 50)) # returns a list, \n",
    "        predicted_class = torch.argmax(net_out)\n",
    "\n",
    "        if predicted_class == real_class:\n",
    "            correct += 1\n",
    "        total += 1\n",
    "print(\"Accuracy: \", round(correct/total, 3)*100)"
   ]
  },
  {
   "cell_type": "code",
   "execution_count": 47,
   "id": "thrown-dover",
   "metadata": {},
   "outputs": [
    {
     "data": {
      "image/png": "[encoded data removed]",
      "text/plain": [
       "<Figure size 432x288 with 1 Axes>"
      ]
     },
     "metadata": {
      "needs_background": "light"
     },
     "output_type": "display_data"
    },
    {
     "name": "stdout",
     "output_type": "stream",
     "text": [
      "Predicted:  Strawberry\n",
      "Actual:  Strawberry\n"
     ]
    }
   ],
   "source": [
    "index = 0\n",
    "actual_img = test_x[index]\n",
    "\n",
    "plt.imshow(actual_img, cmap=\"gray\")\n",
    "plt.show()\n",
    "\n",
    "# torch.argmax returns the indices with the highest probability\n",
    "actual_label = torch.argmax(test_y[index])\n",
    "network_output = model(test_x[index].view(-1, 1, 50, 50))\n",
    "predicted_label = torch.argmax(network_output)\n",
    "# print(network_output)\n",
    "# print(predicted_label)\n",
    "\n",
    "l = [\"Apple\", \"Banana\", \"Grape\", \"Mango\", \"Strawberry\"]\n",
    "print(\"Predicted: \", l[predicted_label.item()])\n",
    "print(\"Actual: \", l[actual_label.item()])"
   ]
  },
  {
   "cell_type": "code",
   "execution_count": null,
   "id": "local-spoke",
   "metadata": {},
   "outputs": [],
   "source": []
  }
 ],
 "metadata": {
  "kernelspec": {
   "display_name": "Python 3",
   "language": "python",
   "name": "python3"
  },
  "language_info": {
   "codemirror_mode": {
    "name": "ipython",
    "version": 3
   },
   "file_extension": ".py",
   "mimetype": "text/x-python",
   "name": "python",
   "nbconvert_exporter": "python",
   "pygments_lexer": "ipython3",
   "version": "3.6.8"
  }
 },
 "nbformat": 4,
 "nbformat_minor": 5
}
